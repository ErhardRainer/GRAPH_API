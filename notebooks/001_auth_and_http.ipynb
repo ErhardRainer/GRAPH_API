{
 "cells": [
  {
   "cell_type": "markdown",
   "metadata": {},
   "source": [
    "# Test: graphfw.core.auth.TokenProvider\n",
    "\n",
    "Dieses Notebook testet die Authentifizierung gegen Microsoft Graph via **Client Credentials**.\n",
    "\n",
    "## Voraussetzungen\n",
    "- `pip install msal`\n",
    "- Gültige App-Registrierung (Application Permissions) in Azure AD\n",
    "- Konfiguration via `config.json` **oder** Umgebungsvariablen:\n",
    "  - `GRAPH_TENANT_ID`, `GRAPH_CLIENT_ID`, `GRAPH_CLIENT_SECRET`\n",
    "\n",
    "⚠️ Dieses Notebook druckt **keine** Secrets; Tokens werden maskiert angezeigt."
   ]
  },
  {
   "cell_type": "code",
   "execution_count": 30,
   "id": "df767bfd",
   "metadata": {},
   "outputs": [
    {
     "data": {
      "text/plain": [
       "'1.3.0'"
      ]
     },
     "execution_count": 30,
     "metadata": {},
     "output_type": "execute_result"
    }
   ],
   "source": [
    "# Imports & Setup\n",
    "from pathlib import Path\n",
    "import pandas as pd\n",
    "import sys\n",
    "\n",
    "import sys\n",
    "sys.path.insert(0, \"..\")  # eine Ebene hoch zum Repo-Root\n",
    "\n",
    "from graphfw.core.auth import TokenProvider\n",
    "\n",
    "TokenProvider.__version__"
   ]
  },
  {
   "cell_type": "code",
   "execution_count": 55,
   "id": "ffddb307",
   "metadata": {},
   "outputs": [
    {
     "data": {
      "text/plain": [
       "'1.4.1'"
      ]
     },
     "execution_count": 55,
     "metadata": {},
     "output_type": "execute_result"
    }
   ],
   "source": [
    "# Wenn man Änderungen am Modul auth.py vorgenommen hat, kann man es folgendermaßen neu laden\n",
    "import sys, importlib\n",
    "from pathlib import Path\n",
    "\n",
    "# optional: sicherstellen, dass dein Repo-Root vorne steht\n",
    "sys.path.insert(0, str(Path(\"..\").resolve()))\n",
    "\n",
    "import graphfw.core.auth as auth_mod\n",
    "importlib.invalidate_caches()          # falls Dateien gerade geändert wurden\n",
    "auth_mod = importlib.reload(auth_mod)  # Modul neu laden\n",
    "\n",
    "# Symbole neu importieren, damit du die aktualisierte Klasse nutzt\n",
    "from graphfw.core.auth import TokenProvider\n",
    "TokenProvider.__version__\n"
   ]
  },
  {
   "cell_type": "markdown",
   "id": "2b91d44c",
   "metadata": {},
   "source": [
    "## Möglichkeit 1: TENANT_ID, CLIENT_ID, CLIENT_SECRET aus einer JSON Datei"
   ]
  },
  {
   "cell_type": "markdown",
   "id": "ff8ef0be",
   "metadata": {},
   "source": [
    "### Möglichkeit 1.1. einfaches auslesen des Einstellunge aus einer config.json ohne Fehlerhandling.\n",
    "Diese Methode ist für Testsystem gut geeignet bei dem man sicher ist, dass die config.json dort richtig ist\n",
    "Hierbei ist das Attribut return_status=False, dh. es kommt zu einer Fehlermeldung, wenn irgendwa nicht stimmt."
   ]
  },
  {
   "cell_type": "code",
   "execution_count": 31,
   "id": "bb196513",
   "metadata": {},
   "outputs": [
    {
     "name": "stdout",
     "output_type": "stream",
     "text": [
      "OK, Token-Länge: 1854\n"
     ]
    }
   ],
   "source": [
    "# 1) Aus JSON\n",
    "tp = TokenProvider.from_json(r\"C:\\python\\Scripts\\config.json\")\n",
    "token = tp.get_access_token()  # verwendet Graph .default\n",
    "print(\"OK, Token-Länge:\", len(token))"
   ]
  },
  {
   "cell_type": "markdown",
   "id": "96e2efaa",
   "metadata": {},
   "source": [
    "### Möglichkeit 1.2. Auslesen der config.json jedoch mit Fehlerhandling\n",
    "Will man keine Fehlermeldung haben, wenn die config.json entweder nicht existiert oder die Einträge nicht stimmen, dann kann man auch return_status = True setzten und dann sich seine eigene Logik zusammenbauen"
   ]
  },
  {
   "cell_type": "code",
   "execution_count": null,
   "id": "ce3e4f7c",
   "metadata": {},
   "outputs": [],
   "source": [
    "from graphfw.core.auth import TokenProvider\n",
    "\n",
    "CONFIG = r\"C:\\python\\Scripts\\config.json\"\n",
    "\n",
    "# 1) Provider aus JSON laden (ohne Exception)\n",
    "tp, ok_load, err_load = TokenProvider.from_json(CONFIG, return_status=True)\n",
    "\n",
    "if not ok_load or tp is None:\n",
    "    print(f\"Konfiguration konnte nicht geladen werden: {err_load}\")\n",
    "else:\n",
    "    # 2) Token holen (ohne Exception; nutzt Graph .default)\n",
    "    token, ok_tok, err_tok = tp.get_access_token(return_status=True)\n",
    "    if ok_tok:\n",
    "        print(\"OK, Token-Länge:\", len(token))\n",
    "    else:\n",
    "        print(\"Token-Erwerb fehlgeschlagen:\", err_tok)\n"
   ]
  },
  {
   "cell_type": "markdown",
   "id": "aab6ca9a",
   "metadata": {},
   "source": [
    "Hier jetzt noch ein Beispiel - wenn man auf unterschiedlichen Systemen die Config immer irgendwo anders liegen hat und das Script über die unterschiedlichen Pfade iterieren soll, um eine funktionierende config.json zu finden"
   ]
  },
  {
   "cell_type": "code",
   "execution_count": 42,
   "id": "59a9d836",
   "metadata": {},
   "outputs": [
    {
     "name": "stdout",
     "output_type": "stream",
     "text": [
      "[-] ./config.json: FileNotFoundError: Config file not found: config.json\n",
      "[-] ./secrets/graph.json: FileNotFoundError: Config file not found: secrets\\graph.json\n",
      "[-] C:\\Users\\erhard.rainer\\.config\\graphfw\\config.json: FileNotFoundError: Config file not found: C:\\Users\\erhard.rainer\\.config\\graphfw\\config.json\n",
      "[+] Erfolg mit C:\\python\\Scripts\\config.json | Token: eyJ0eXAiOiJK…NiQeJLtw\n",
      "Verwende Provider aus: C:\\python\\Scripts\\config.json\n"
     ]
    }
   ],
   "source": [
    "from pathlib import Path\n",
    "\n",
    "# Kandidaten in Reihenfolge der Priorität\n",
    "candidates = [\n",
    "    \"./config.json\",\n",
    "    \"./secrets/graph.json\",\n",
    "    str(Path.home() / \".config\" / \"graphfw\" / \"config.json\"),\n",
    "    r\"C:\\python\\Scripts\\config.json\"\n",
    "]\n",
    "\n",
    "def mask(tok: str) -> str:\n",
    "    return (tok[:12] + \"…\" + tok[-8:]) if tok and len(tok) > 24 else (tok or \"\")\n",
    "\n",
    "tp = None\n",
    "used = None\n",
    "last_err = \"\"\n",
    "\n",
    "for p in candidates:\n",
    "    # 1) Provider aus JSON laden (nicht-wurfend)\n",
    "    provider, ok_load, err_load = TokenProvider.from_json(p, return_status=True)\n",
    "    if not ok_load or provider is None:\n",
    "        print(f\"[-] {p}: {err_load}\")   # genau die Fehlermeldung, die du wolltest\n",
    "        last_err = f\"{p}: {err_load}\"\n",
    "        continue\n",
    "\n",
    "    # 2) Token holen (nicht-wurfend)\n",
    "    token, ok_tok, err_tok = provider.get_token(return_status=True)  # nutzt .default\n",
    "    if not ok_tok:\n",
    "        print(f\"[-] {p}: Token-Fehler: {err_tok}\")\n",
    "        last_err = f\"{p}: {err_tok}\"\n",
    "        continue\n",
    "\n",
    "    # Erfolg -> merken und abbrechen\n",
    "    tp, used = provider, p\n",
    "    print(f\"[+] Erfolg mit {p} | Token: {mask(token)}\")\n",
    "    break\n",
    "\n",
    "if tp is None:\n",
    "    print(\"Kein funktionierender Eintrag gefunden.\")\n",
    "    print(\"Letzter Fehler:\", last_err)\n",
    "else:\n",
    "    print(\"Verwende Provider aus:\", used)\n"
   ]
  },
  {
   "cell_type": "markdown",
   "id": "64dd1104",
   "metadata": {},
   "source": [
    "## Möglichkeit 2:  TENANT_ID, CLIENT_ID, CLIENT_SECRET aus den Umgebungsvariablen\n",
    "Für Produktivsysteme ist es sinnvoller die IDs und das Secret in einer Umgebungsvariable zu speichern."
   ]
  },
  {
   "cell_type": "markdown",
   "id": "f5fc891e",
   "metadata": {},
   "source": [
    "### Möglichkeit 2.1: In dieser Methode wird genau festgelegt, welche Environment Variable ausgelesen werden sollen.\n",
    "Diese Methode führt zu einem Fehler \"KeyError:\"- wenn die entsprechende Environment Variable nicht existiert\n"
   ]
  },
  {
   "cell_type": "code",
   "execution_count": 35,
   "id": "d6c1a7d4",
   "metadata": {},
   "outputs": [
    {
     "ename": "KeyError",
     "evalue": "'GRAPH_TENANT_ID'",
     "output_type": "error",
     "traceback": [
      "\u001b[31m---------------------------------------------------------------------------\u001b[39m",
      "\u001b[31mKeyError\u001b[39m                                  Traceback (most recent call last)",
      "\u001b[36mCell\u001b[39m\u001b[36m \u001b[39m\u001b[32mIn[35]\u001b[39m\u001b[32m, line 2\u001b[39m\n\u001b[32m      1\u001b[39m tp_env = TokenProvider.from_values(\n\u001b[32m----> \u001b[39m\u001b[32m2\u001b[39m     tenant_id=\u001b[43mos\u001b[49m\u001b[43m.\u001b[49m\u001b[43menviron\u001b[49m\u001b[43m[\u001b[49m\u001b[33;43m\"\u001b[39;49m\u001b[33;43mGRAPH_TENANT_ID\u001b[39;49m\u001b[33;43m\"\u001b[39;49m\u001b[43m]\u001b[49m,\n\u001b[32m      3\u001b[39m     client_id=os.environ[\u001b[33m\"\u001b[39m\u001b[33mGRAPH_CLIENT_ID\u001b[39m\u001b[33m\"\u001b[39m],\n\u001b[32m      4\u001b[39m     client_secret=os.environ[\u001b[33m\"\u001b[39m\u001b[33mGRAPH_CLIENT_SECRET\u001b[39m\u001b[33m\"\u001b[39m],\n\u001b[32m      5\u001b[39m )\n\u001b[32m      6\u001b[39m token2 = tp_env.get_access_token(\u001b[33m\"\u001b[39m\u001b[33mhttps://graph.microsoft.com/.default\u001b[39m\u001b[33m\"\u001b[39m)\n",
      "\u001b[36mFile \u001b[39m\u001b[32m<frozen os>:679\u001b[39m, in \u001b[36m__getitem__\u001b[39m\u001b[34m(self, key)\u001b[39m\n",
      "\u001b[31mKeyError\u001b[39m: 'GRAPH_TENANT_ID'"
     ]
    }
   ],
   "source": [
    "# 2.1 bestimmte Enviroment Schlüssel mit Error\n",
    "tp_env = TokenProvider.from_values(\n",
    "    tenant_id=os.environ[\"GRAPH_TENANT_ID\"],\n",
    "    client_id=os.environ[\"GRAPH_CLIENT_ID\"],\n",
    "    client_secret=os.environ[\"GRAPH_CLIENT_SECRET\"],\n",
    ")\n",
    "token2 = tp_env.get_access_token(\"https://graph.microsoft.com/.default\")"
   ]
  },
  {
   "cell_type": "markdown",
   "id": "863152b4",
   "metadata": {},
   "source": [
    "### Möglichkeit 2.2: In dieser Methode wird der Standard-Pfad der Enviroment-Variablen verwendet\n",
    "Über den Parameter return_status kann man steuern, ob es zu einer Fehlermeldung kommt, wenn der Schlüssel nicht gefunden wird oder nicht. Ist return_status=True, kommt es zu keiner Fehlermeldung.\n",
    "Man kann aber über die Variable err auslesen, zu welchem Fehler es gekommen ist zB: ValueError: Environment variables GRAPH_TENANT_ID/_CLIENT_ID/_CLIENT_SECRET required."
   ]
  },
  {
   "cell_type": "code",
   "execution_count": 40,
   "id": "b1bca18f",
   "metadata": {},
   "outputs": [
    {
     "name": "stdout",
     "output_type": "stream",
     "text": [
      "ValueError: Environment variables GRAPH_TENANT_ID/_CLIENT_ID/_CLIENT_SECRET required.\n"
     ]
    }
   ],
   "source": [
    "# 2.2 Aus ENV (GRAPH_TENANT_ID / GRAPH_CLIENT_ID / GRAPH_CLIENT_SECRET) - mit Error\n",
    "# Nicht-werfend laden (ENV):\n",
    "tp_env, ok_env, err_env = TokenProvider.from_env(return_status=True)\n",
    "\n",
    "if ok_env and tp_env:\n",
    "    token, ok, err = tp_env.get_token(return_status=True)  # Scope .default automatisch\n",
    "    print(\"Token ok?\", ok, \"| err:\", err)\n",
    "else:\n",
    "    print(err_env)"
   ]
  },
  {
   "cell_type": "markdown",
   "id": "9ac6c4ba",
   "metadata": {},
   "source": [
    "Unter Verwendung von return_status=True kann man dann auch komplexe Lösungen bauen, die zB \n",
    "(1) am Anfang bei den Standardwerten nachsieht,\n",
    "(2) dann an einem bestimmten Pfad\n",
    "(3) in einem JSON"
   ]
  },
  {
   "cell_type": "code",
   "execution_count": null,
   "id": "61f65d5d",
   "metadata": {},
   "outputs": [],
   "source": [
    "# -*- coding: utf-8 -*-\n",
    "\"\"\"\n",
    "Beispiel: Auth-Fallback mit return_status=True\n",
    "\n",
    "Strategie:\n",
    "(1) ENV-Standardwerte prüfen (GRAPH_TENANT_ID / GRAPH_CLIENT_ID / GRAPH_CLIENT_SECRET)\n",
    "(2) Fixen Pfad versuchen (AUTH_CONFIG_PATH oder vordefinierte Kandidaten)\n",
    "(3) JSON-Quelle versuchen (z. B. aus ENV-Variable mit JSON-Inhalt)\n",
    "\n",
    "Alle Schritte nutzen return_status=True, werfen also keine Exceptions, sondern\n",
    "liefern (obj|None, succeeded: bool, error_message: str).\n",
    "\n",
    "Aufruf:\n",
    "    python scripts/example_auth_fallback.py\n",
    "oder in Jupyter eine Zelle mit:\n",
    "    %run -m scripts.example_auth_fallback\n",
    "\"\"\"\n",
    "from __future__ import annotations\n",
    "\n",
    "from pathlib import Path\n",
    "import json\n",
    "import os\n",
    "import sys\n",
    "from typing import Optional, Tuple\n",
    "\n",
    "# Repo-Root einhängen (falls dieses Skript aus /scripts/ läuft)\n",
    "sys.path.insert(0, str(Path(__file__).resolve().parents[1]))\n",
    "\n",
    "from graphfw.core.auth import TokenProvider  # noqa: E402\n",
    "\n",
    "\n",
    "SCOPE = os.getenv(\"GRAPH_SCOPE\", \"https://graph.microsoft.com/.default\")\n",
    "\n",
    "# Kandidaten für Schritt (2)\n",
    "PREFERRED_PATHS = [\n",
    "    os.getenv(\"AUTH_CONFIG_PATH\", \"\").strip() or None,                 # expliziter Pfad via ENV\n",
    "    str(Path.cwd() / \"config.json\"),                                   # ./config.json\n",
    "    str(Path.cwd() / \"secrets\" / \"graph.json\"),                        # ./secrets/graph.json\n",
    "    str(Path.home() / \".config\" / \"graphfw\" / \"config.json\"),          # ~/.config/graphfw/config.json\n",
    "]\n",
    "PREFERRED_PATHS = [p for p in PREFERRED_PATHS if p]  # None entfernen\n",
    "\n",
    "# JSON-Quelle für Schritt (3) – z. B. Inhalt einer Secret-Variable in CI\n",
    "JSON_ENV_KEYS = [\"GRAPHFW_AZUREAD_JSON\", \"GRAPH_JSON\", \"AZUREAD_JSON\"]\n",
    "\n",
    "\n",
    "def _mask(token: str) -> str:\n",
    "    if not token:\n",
    "        return \"\"\n",
    "    return (token[:12] + \"…\" + token[-8:]) if len(token) > 24 else token[:6] + \"…\"\n",
    "\n",
    "\n",
    "def try_env() -> Tuple[Optional[TokenProvider], bool, str]:\n",
    "    \"\"\"Schritt (1): ENV-Standardwerte.\"\"\"\n",
    "    tp, ok, err = TokenProvider.from_env(return_status=True)\n",
    "    return tp, bool(ok and tp is not None), err\n",
    "\n",
    "\n",
    "def try_paths() -> Tuple[Optional[TokenProvider], bool, str, Optional[str]]:\n",
    "    \"\"\"Schritt (2): feste Pfade der Reihe nach testen.\"\"\"\n",
    "    last_err = \"\"\n",
    "    for p in PREFERRED_PATHS:\n",
    "        path = Path(p)\n",
    "        if not path.exists():\n",
    "            continue\n",
    "        tp, ok, err = TokenProvider.from_json(path, return_status=True)\n",
    "        if ok and tp:\n",
    "            return tp, True, \"\", str(path)\n",
    "        last_err = f\"{path}: {err}\"\n",
    "    return None, False, last_err or \"no candidate path succeeded\", None\n",
    "\n",
    "\n",
    "def try_json_blob() -> Tuple[Optional[TokenProvider], bool, str, Optional[str]]:\n",
    "    \"\"\"Schritt (3): JSON aus ENV-Variable(n). Erlaubt zwei Schemata:\n",
    "       a) {\"azuread\": {\"tenant_id\": \"...\", \"client_id\": \"...\", \"client_secret\": \"...\"}}\n",
    "       b) {\"tenant_id\": \"...\", \"client_id\": \"...\", \"client_secret\": \"...\"}\n",
    "    \"\"\"\n",
    "    for key in JSON_ENV_KEYS:\n",
    "        blob = os.getenv(key, \"\").strip()\n",
    "        if not blob:\n",
    "            continue\n",
    "        try:\n",
    "            data = json.loads(blob)\n",
    "        except Exception as ex:\n",
    "            return None, False, f\"{key} JSON parse error: {ex}\", key\n",
    "\n",
    "        section = data.get(\"azuread\") if isinstance(data, dict) else None\n",
    "        payload = section if section else data\n",
    "        tp, ok, err = TokenProvider.from_dict(payload, return_status=True)\n",
    "        if ok and tp:\n",
    "            return tp, True, \"\", key\n",
    "        return None, False, f\"{key}: {err}\", key\n",
    "    return None, False, \"no JSON env var provided\", None\n",
    "\n",
    "\n",
    "def resolve_provider() -> Tuple[Optional[TokenProvider], str]:\n",
    "    \"\"\"\n",
    "    Führt die drei Schritte der Reihe nach aus und gibt (provider, source) zurück.\n",
    "    source ∈ {\"env\", \"path:<pfad>\", \"json:<envkey>\", \"\"} – leer bei Fehlschlag.\n",
    "    \"\"\"\n",
    "    # (1) ENV\n",
    "    tp, ok, err = try_env()\n",
    "    if ok and tp:\n",
    "        return tp, \"env\"\n",
    "\n",
    "    # (2) PATH\n",
    "    tp, ok, err, used_path = try_paths()\n",
    "    if ok and tp:\n",
    "        return tp, f\"path:{used_path}\"\n",
    "\n",
    "    # (3) JSON\n",
    "    tp, ok, err, used_key = try_json_blob()\n",
    "    if ok and tp:\n",
    "        return tp, f\"json:{used_key}\"\n",
    "\n",
    "    return None, \"\"\n",
    "\n",
    "\n",
    "def main() -> int:\n",
    "    print(\"TokenProvider Version:\", getattr(TokenProvider, \"__version__\", \"<unknown>\"))\n",
    "    tp, source = resolve_provider()\n",
    "    if not tp:\n",
    "        print(\"Kein TokenProvider gefunden. Prüfe ENV/Pfade/JSON.\")\n",
    "        print(\"Hinweis ENV: GRAPH_TENANT_ID / GRAPH_CLIENT_ID / GRAPH_CLIENT_SECRET\")\n",
    "        print(\"Hinweis Pfade:\", PREFERRED_PATHS)\n",
    "        print(\"Hinweis JSON-ENV-Keys:\", JSON_ENV_KEYS)\n",
    "        return 2\n",
    "\n",
    "    print(\"Quelle:\", source)\n",
    "    token, ok, err = tp.get_token(return_status=True)  # nutzt .default\n",
    "    if not ok:\n",
    "        print(\"Token-Erwerb fehlgeschlagen:\", err)\n",
    "        return 1\n",
    "\n",
    "    print(\"Token OK:\", ok, \"| Länge:\", len(token), \"| maskiert:\", _mask(token))\n",
    "    return 0\n",
    "\n",
    "\n",
    "if __name__ == \"__main__\":\n",
    "    raise SystemExit(main())\n"
   ]
  },
  {
   "cell_type": "code",
   "execution_count": null,
   "id": "7e2b83ca",
   "metadata": {},
   "outputs": [],
   "source": [
    "Das Skript lädt einen TokenProvider auf zwei mögliche Arten – aus einer JSON-Datei oder aus Umgebungsvariablen – und gibt am Ende einfach das Objekt tp zurück"
   ]
  },
  {
   "cell_type": "code",
   "execution_count": null,
   "id": "0c61a1ba",
   "metadata": {},
   "outputs": [
    {
     "ename": "ValueError",
     "evalue": "Environment variables GRAPH_TENANT_ID/_CLIENT_ID/_CLIENT_SECRET required.",
     "output_type": "error",
     "traceback": [
      "\u001b[31m---------------------------------------------------------------------------\u001b[39m\n",
      "\u001b[31mValueError\u001b[39m                                Traceback (most recent call last)\n",
      "\u001b[36mCell\u001b[39m\u001b[36m \u001b[39m\u001b[32mIn[43]\u001b[39m\u001b[32m, line 16\u001b[39m\n",
      "\u001b[32m     13\u001b[39m     tp = TokenProvider.from_json(CONFIG_PATH)\n",
      "\u001b[32m     14\u001b[39m \u001b[38;5;28;01melse\u001b[39;00m:\n",
      "\u001b[32m     15\u001b[39m     \u001b[38;5;66;03m# Erwartet: GRAPH_TENANT_ID / GRAPH_CLIENT_ID / GRAPH_CLIENT_SECRET\u001b[39;00m\n",
      "\u001b[32m---> \u001b[39m\u001b[32m16\u001b[39m     tp = \u001b[43mTokenProvider\u001b[49m\u001b[43m.\u001b[49m\u001b[43mfrom_env\u001b[49m\u001b[43m(\u001b[49m\u001b[43m)\u001b[49m\n",
      "\u001b[32m     18\u001b[39m tp\n",
      "\n",
      "\u001b[36mFile \u001b[39m\u001b[32mc:\\Users\\erhard.rainer\\Documents\\GitHub\\GRAPH_API\\notebooks\\..\\graphfw\\core\\auth.py:245\u001b[39m, in \u001b[36mTokenProvider.from_env\u001b[39m\u001b[34m(cls, prefix, cache_path, return_status)\u001b[39m\n",
      "\u001b[32m    243\u001b[39m sec = os.getenv(\u001b[33mf\u001b[39m\u001b[33m\"\u001b[39m\u001b[38;5;132;01m{\u001b[39;00mprefix\u001b[38;5;132;01m}\u001b[39;00m\u001b[33mCLIENT_SECRET\u001b[39m\u001b[33m\"\u001b[39m, \u001b[33m\"\u001b[39m\u001b[33m\"\u001b[39m)\n",
      "\u001b[32m    244\u001b[39m \u001b[38;5;28;01mif\u001b[39;00m \u001b[38;5;129;01mnot\u001b[39;00m (tid \u001b[38;5;129;01mand\u001b[39;00m cid \u001b[38;5;129;01mand\u001b[39;00m sec):\n",
      "\u001b[32m--> \u001b[39m\u001b[32m245\u001b[39m     \u001b[38;5;28;01mraise\u001b[39;00m \u001b[38;5;167;01mValueError\u001b[39;00m(\u001b[33mf\u001b[39m\u001b[33m\"\u001b[39m\u001b[33mEnvironment variables \u001b[39m\u001b[38;5;132;01m{\u001b[39;00mprefix\u001b[38;5;132;01m}\u001b[39;00m\u001b[33mTENANT_ID/_CLIENT_ID/_CLIENT_SECRET required.\u001b[39m\u001b[33m\"\u001b[39m)\n",
      "\u001b[32m    246\u001b[39m prov = \u001b[38;5;28mcls\u001b[39m.from_values(tid, cid, sec, cache_path=cache_path)\n",
      "\u001b[32m    247\u001b[39m \u001b[38;5;28;01mif\u001b[39;00m return_status:\n",
      "\n",
      "\u001b[31mValueError\u001b[39m: Environment variables GRAPH_TENANT_ID/_CLIENT_ID/_CLIENT_SECRET required."
     ]
    }
   ],
   "source": [
    "from pathlib import Path\n",
    "import os, time\n",
    "from graphfw.core.auth import TokenProvider\n",
    "\n",
    "# Wähle einen Modus: 'json' oder 'env'\n",
    "MODE = os.getenv(\"AUTH_TEST_MODE\", \"env\")  # 'json' | 'env'\n",
    "CONFIG_PATH = os.getenv(\"AUTH_CONFIG_PATH\", \"config.json\")\n",
    "\n",
    "if MODE == \"json\" and not Path(CONFIG_PATH).exists():\n",
    "    raise FileNotFoundError(f\"Config-Datei nicht gefunden: {CONFIG_PATH}\")\n",
    "\n",
    "if MODE == \"json\":\n",
    "    tp = TokenProvider.from_json(CONFIG_PATH)\n",
    "else:\n",
    "    # Erwartet: GRAPH_TENANT_ID / GRAPH_CLIENT_ID / GRAPH_CLIENT_SECRET\n",
    "    tp = TokenProvider.from_env()\n",
    "\n",
    "tp"
   ]
  },
  {
   "cell_type": "markdown",
   "id": "6dcd2f96",
   "metadata": {},
   "source": [
    "## Möglichkeit 3: Zugangsdaten Hardcoded\n",
    "Das ist die unsicherste Variante, da in diesem Fall die IDs und das Secret Hardcoded sind. Diese Methode eigenet sich nur dann, wenn man neue Zugangsdaten testen möchte, bevor man die config.json erstellt oder die Umgebungsvariablen setzt. "
   ]
  },
  {
   "cell_type": "code",
   "execution_count": null,
   "id": "bfe500d5",
   "metadata": {},
   "outputs": [],
   "source": [
    "# 3) Direkt aus Werten (alias früher: from_client_credentials)\n",
    "tp_val = TokenProvider.from_client_credentials(\n",
    "    tenant_id=\"xxxxxxxx-xxxx-xxxx-xxxx-xxxxxxxxxxxx\",\n",
    "    client_id=\"aaaaaaaa-bbbb-cccc-dddd-eeeeeeeeeeee\",\n",
    "    client_secret=\"***\"\n",
    ")\n",
    "token3 = tp_val.get_access_token(force_refresh=False)"
   ]
  },
  {
   "cell_type": "code",
   "execution_count": 56,
   "metadata": {},
   "outputs": [
    {
     "name": "stdout",
     "output_type": "stream",
     "text": [
      "Token erhalten (maskiert): eyJ0eXAiOiJKV1Qi…NiQeJLtw\n",
      "Dauer (s): 0.0\n"
     ]
    }
   ],
   "source": [
    "SCOPE = \"https://graph.microsoft.com/.default\"\n",
    "\n",
    "t0 = time.time()\n",
    "token = tp.get_access_token(SCOPE)\n",
    "t1 = time.time()\n",
    "\n",
    "masked = token[:16] + \"…\" + token[-8:]\n",
    "print(\"Token erhalten (maskiert):\", masked)\n",
    "print(\"Dauer (s):\", round(t1 - t0, 3))"
   ]
  },
  {
   "cell_type": "markdown",
   "metadata": {},
   "source": [
    "## Optional: Force-Refresh\n",
    "Erzwingt das Umgehen des Caches."
   ]
  },
  {
   "cell_type": "code",
   "execution_count": 57,
   "metadata": {},
   "outputs": [
    {
     "name": "stdout",
     "output_type": "stream",
     "text": [
      "OK? False | err: ValueError: Historically, this method does not support force_refresh behavior. \n"
     ]
    }
   ],
   "source": [
    "t0 = time.time()\n",
    "token2, ok, err = tp.get_access_token(SCOPE, force_refresh=True, return_status=True)\n",
    "t1 = time.time()\n",
    "print(\"OK?\", ok, \"| err:\", err)\n",
    "if ok:\n",
    "    print(\"Token (neu, maskiert):\", token2[:16] + \"…\" + token2[-8:])\n",
    "    print(\"Dauer (s):\", round(t1 - t0, 3))\n",
    "    print(\"Gleiches Token wie zuvor?\", token2 == token)\n"
   ]
  }
 ],
 "metadata": {
  "kernelspec": {
   "display_name": ".venv",
   "language": "python",
   "name": "python3"
  },
  "language_info": {
   "codemirror_mode": {
    "name": "ipython",
    "version": 3
   },
   "file_extension": ".py",
   "mimetype": "text/x-python",
   "name": "python",
   "nbconvert_exporter": "python",
   "pygments_lexer": "ipython3",
   "version": "3.11.9"
  }
 },
 "nbformat": 4,
 "nbformat_minor": 5
}
