{
 "cells": [
  {
   "cell_type": "markdown",
   "metadata": {},
   "source": [
    "# Test: graphfw.core.auth.TokenProvider\n",
    "\n",
    "Dieses Notebook testet die Authentifizierung gegen Microsoft Graph via **Client Credentials**.\n",
    "\n",
    "## Voraussetzungen\n",
    "- `pip install msal`\n",
    "- Gültige App-Registrierung (Application Permissions) in Azure AD\n",
    "- Konfiguration via `config.json` **oder** Umgebungsvariablen:\n",
    "  - `GRAPH_TENANT_ID`, `GRAPH_CLIENT_ID`, `GRAPH_CLIENT_SECRET`\n",
    "\n",
    "⚠️ Dieses Notebook druckt **keine** Secrets; Tokens werden maskiert angezeigt."
   ]
  },
  {
   "cell_type": "code",
   "execution_count": 22,
   "id": "df767bfd",
   "metadata": {},
   "outputs": [
    {
     "ename": "AttributeError",
     "evalue": "type object 'TokenProvider' has no attribute '__version__'",
     "output_type": "error",
     "traceback": [
      "\u001b[31m---------------------------------------------------------------------------\u001b[39m",
      "\u001b[31mAttributeError\u001b[39m                            Traceback (most recent call last)",
      "\u001b[36mCell\u001b[39m\u001b[36m \u001b[39m\u001b[32mIn[22]\u001b[39m\u001b[32m, line 11\u001b[39m\n\u001b[32m      7\u001b[39m sys.path.insert(\u001b[32m0\u001b[39m, \u001b[33m\"\u001b[39m\u001b[33m..\u001b[39m\u001b[33m\"\u001b[39m)  \u001b[38;5;66;03m# eine Ebene hoch zum Repo-Root\u001b[39;00m\n\u001b[32m      9\u001b[39m \u001b[38;5;28;01mfrom\u001b[39;00m\u001b[38;5;250m \u001b[39m\u001b[34;01mgraphfw\u001b[39;00m\u001b[34;01m.\u001b[39;00m\u001b[34;01mcore\u001b[39;00m\u001b[34;01m.\u001b[39;00m\u001b[34;01mauth\u001b[39;00m\u001b[38;5;250m \u001b[39m\u001b[38;5;28;01mimport\u001b[39;00m TokenProvider\n\u001b[32m---> \u001b[39m\u001b[32m11\u001b[39m \u001b[43mTokenProvider\u001b[49m\u001b[43m.\u001b[49m\u001b[43m__version__\u001b[49m\n",
      "\u001b[31mAttributeError\u001b[39m: type object 'TokenProvider' has no attribute '__version__'"
     ]
    }
   ],
   "source": [
    "# Imports & Setup\n",
    "from pathlib import Path\n",
    "import pandas as pd\n",
    "import sys\n",
    "\n",
    "import sys\n",
    "sys.path.insert(0, \"..\")  # eine Ebene hoch zum Repo-Root\n",
    "\n",
    "from graphfw.core.auth import TokenProvider\n",
    "\n",
    "TokenProvider.__version__"
   ]
  },
  {
   "cell_type": "markdown",
   "id": "2b91d44c",
   "metadata": {},
   "source": [
    "## Möglichkeit 1: TENANT_ID, CLIENT_ID, CLIENT_SECRET aus einer JSON Datei"
   ]
  },
  {
   "cell_type": "code",
   "execution_count": 19,
   "id": "bb196513",
   "metadata": {},
   "outputs": [
    {
     "name": "stdout",
     "output_type": "stream",
     "text": [
      "OK, Token-Länge: 1863\n"
     ]
    }
   ],
   "source": [
    "# 1) Aus JSON\n",
    "tp = TokenProvider.from_json(r\"C:\\python\\Scripts\\config.json\")\n",
    "token = tp.get_access_token()  # verwendet Graph .default\n",
    "print(\"OK, Token-Länge:\", len(token))"
   ]
  },
  {
   "cell_type": "markdown",
   "id": "64dd1104",
   "metadata": {},
   "source": [
    "## Möglichkeit 2:  TENANT_ID, CLIENT_ID, CLIENT_SECRET aus den Umgebungsvariablen"
   ]
  },
  {
   "cell_type": "code",
   "execution_count": 20,
   "id": "d6c1a7d4",
   "metadata": {},
   "outputs": [
    {
     "ename": "KeyError",
     "evalue": "'GRAPH_TENANT_ID'",
     "output_type": "error",
     "traceback": [
      "\u001b[31m---------------------------------------------------------------------------\u001b[39m",
      "\u001b[31mKeyError\u001b[39m                                  Traceback (most recent call last)",
      "\u001b[36mCell\u001b[39m\u001b[36m \u001b[39m\u001b[32mIn[20]\u001b[39m\u001b[32m, line 2\u001b[39m\n\u001b[32m      1\u001b[39m tp_env = TokenProvider.from_values(\n\u001b[32m----> \u001b[39m\u001b[32m2\u001b[39m     tenant_id=\u001b[43mos\u001b[49m\u001b[43m.\u001b[49m\u001b[43menviron\u001b[49m\u001b[43m[\u001b[49m\u001b[33;43m\"\u001b[39;49m\u001b[33;43mGRAPH_TENANT_ID\u001b[39;49m\u001b[33;43m\"\u001b[39;49m\u001b[43m]\u001b[49m,\n\u001b[32m      3\u001b[39m     client_id=os.environ[\u001b[33m\"\u001b[39m\u001b[33mGRAPH_CLIENT_ID\u001b[39m\u001b[33m\"\u001b[39m],\n\u001b[32m      4\u001b[39m     client_secret=os.environ[\u001b[33m\"\u001b[39m\u001b[33mGRAPH_CLIENT_SECRET\u001b[39m\u001b[33m\"\u001b[39m],\n\u001b[32m      5\u001b[39m )\n\u001b[32m      6\u001b[39m token2 = tp_env.get_access_token(\u001b[33m\"\u001b[39m\u001b[33mhttps://graph.microsoft.com/.default\u001b[39m\u001b[33m\"\u001b[39m)\n",
      "\u001b[36mFile \u001b[39m\u001b[32m<frozen os>:679\u001b[39m, in \u001b[36m__getitem__\u001b[39m\u001b[34m(self, key)\u001b[39m\n",
      "\u001b[31mKeyError\u001b[39m: 'GRAPH_TENANT_ID'"
     ]
    }
   ],
   "source": [
    "tp_env = TokenProvider.from_values(\n",
    "    tenant_id=os.environ[\"GRAPH_TENANT_ID\"],\n",
    "    client_id=os.environ[\"GRAPH_CLIENT_ID\"],\n",
    "    client_secret=os.environ[\"GRAPH_CLIENT_SECRET\"],\n",
    ")\n",
    "token2 = tp_env.get_access_token(\"https://graph.microsoft.com/.default\")"
   ]
  },
  {
   "cell_type": "code",
   "execution_count": 21,
   "id": "b1bca18f",
   "metadata": {},
   "outputs": [
    {
     "ename": "AttributeError",
     "evalue": "type object 'TokenProvider' has no attribute 'from_env'",
     "output_type": "error",
     "traceback": [
      "\u001b[31m---------------------------------------------------------------------------\u001b[39m",
      "\u001b[31mAttributeError\u001b[39m                            Traceback (most recent call last)",
      "\u001b[36mCell\u001b[39m\u001b[36m \u001b[39m\u001b[32mIn[21]\u001b[39m\u001b[32m, line 2\u001b[39m\n\u001b[32m      1\u001b[39m \u001b[38;5;66;03m# 2) Aus ENV (GRAPH_TENANT_ID / GRAPH_CLIENT_ID / GRAPH_CLIENT_SECRET)\u001b[39;00m\n\u001b[32m----> \u001b[39m\u001b[32m2\u001b[39m tp_env = \u001b[43mTokenProvider\u001b[49m\u001b[43m.\u001b[49m\u001b[43mfrom_env\u001b[49m()\n\u001b[32m      3\u001b[39m token2, ok, err = tp_env.get_token([\u001b[33m\"\u001b[39m\u001b[33mhttps://graph.microsoft.com/.default\u001b[39m\u001b[33m\"\u001b[39m], return_status=\u001b[38;5;28;01mTrue\u001b[39;00m)\n\u001b[32m      4\u001b[39m \u001b[38;5;28mprint\u001b[39m(\u001b[33m\"\u001b[39m\u001b[33mOK:\u001b[39m\u001b[33m\"\u001b[39m, ok, \u001b[33m\"\u001b[39m\u001b[33mERR:\u001b[39m\u001b[33m\"\u001b[39m, err)\n",
      "\u001b[31mAttributeError\u001b[39m: type object 'TokenProvider' has no attribute 'from_env'"
     ]
    }
   ],
   "source": [
    "# 2) Aus ENV (GRAPH_TENANT_ID / GRAPH_CLIENT_ID / GRAPH_CLIENT_SECRET)\n",
    "tp_env = TokenProvider.from_env()\n",
    "token2, ok, err = tp_env.get_token([\"https://graph.microsoft.com/.default\"], return_status=True)\n",
    "print(\"OK:\", ok, \"ERR:\", err)"
   ]
  },
  {
   "cell_type": "markdown",
   "id": "6dcd2f96",
   "metadata": {},
   "source": [
    "## Möglichkeit 3: Zugangsdaten Hardcoded"
   ]
  },
  {
   "cell_type": "code",
   "execution_count": null,
   "id": "bfe500d5",
   "metadata": {},
   "outputs": [],
   "source": [
    "# 3) Direkt aus Werten (alias früher: from_client_credentials)\n",
    "tp_val = TokenProvider.from_client_credentials(\n",
    "    tenant_id=\"xxxxxxxx-xxxx-xxxx-xxxx-xxxxxxxxxxxx\",\n",
    "    client_id=\"aaaaaaaa-bbbb-cccc-dddd-eeeeeeeeeeee\",\n",
    "    client_secret=\"***\"\n",
    ")\n",
    "token3 = tp_val.get_access_token(force_refresh=False)"
   ]
  },
  {
   "cell_type": "code",
   "execution_count": null,
   "metadata": {},
   "outputs": [],
   "source": [
    "from pathlib import Path\n",
    "import os, time\n",
    "from graphfw.core.auth import TokenProvider\n",
    "\n",
    "# Wähle einen Modus: 'json' oder 'env'\n",
    "MODE = os.getenv(\"AUTH_TEST_MODE\", \"env\")  # 'json' | 'env'\n",
    "CONFIG_PATH = os.getenv(\"AUTH_CONFIG_PATH\", \"config.json\")\n",
    "\n",
    "if MODE == \"json\" and not Path(CONFIG_PATH).exists():\n",
    "    raise FileNotFoundError(f\"Config-Datei nicht gefunden: {CONFIG_PATH}\")\n",
    "\n",
    "if MODE == \"json\":\n",
    "    tp = TokenProvider.from_json(CONFIG_PATH)\n",
    "else:\n",
    "    # Erwartet: GRAPH_TENANT_ID / GRAPH_CLIENT_ID / GRAPH_CLIENT_SECRET\n",
    "    tp = TokenProvider.from_env()\n",
    "\n",
    "tp"
   ]
  },
  {
   "cell_type": "code",
   "execution_count": null,
   "metadata": {},
   "outputs": [],
   "source": [
    "SCOPE = \"https://graph.microsoft.com/.default\"\n",
    "\n",
    "t0 = time.time()\n",
    "token = tp.get_access_token(SCOPE)\n",
    "t1 = time.time()\n",
    "\n",
    "masked = token[:16] + \"…\" + token[-8:]\n",
    "print(\"Token erhalten (maskiert):\", masked)\n",
    "print(\"Dauer (s):\", round(t1 - t0, 3))"
   ]
  },
  {
   "cell_type": "markdown",
   "metadata": {},
   "source": [
    "## Optional: Force-Refresh\n",
    "Erzwingt das Umgehen des Caches."
   ]
  },
  {
   "cell_type": "code",
   "execution_count": null,
   "metadata": {},
   "outputs": [],
   "source": [
    "t0 = time.time()\n",
    "token2 = tp.get_access_token(SCOPE, force_refresh=True)\n",
    "t1 = time.time()\n",
    "print(\"Token (neu, maskiert):\", token2[:16] + \"…\" + token2[-8:])\n",
    "print(\"Dauer (s):\", round(t1 - t0, 3))\n",
    "print(\"Gleiches Token wie zuvor?\", token2 == token)"
   ]
  }
 ],
 "metadata": {
  "kernelspec": {
   "display_name": ".venv",
   "language": "python",
   "name": "python3"
  },
  "language_info": {
   "codemirror_mode": {
    "name": "ipython",
    "version": 3
   },
   "file_extension": ".py",
   "mimetype": "text/x-python",
   "name": "python",
   "nbconvert_exporter": "python",
   "pygments_lexer": "ipython3",
   "version": "3.11.9"
  }
 },
 "nbformat": 4,
 "nbformat_minor": 5
}
