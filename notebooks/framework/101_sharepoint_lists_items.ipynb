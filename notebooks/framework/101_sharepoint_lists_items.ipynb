{
    "metadata": {
        "kernelspec": {
            "name": "SQL",
            "display_name": "SQL",
            "language": "sql"
        },
        "language_info": {
            "name": "sql",
            "version": ""
        }
    },
    "nbformat_minor": 2,
    "nbformat": 4,
    "cells": [
        {
            "cell_type": "markdown",
            "source": [
                "# SharePoint List Items → DataFrame (graphfw) — Usage Guide\n",
                "\n",
                "Dieses Notebook zeigt **alle wichtigen Aufrufvarianten** für\n",
                "`graphfw.domains.sharepoint.lists.items.list_df` inklusive:\n",
                "\n",
                "- Spaltenselektion (`columns=\"*\"` oder Liste),\n",
                "- Aliase & explizites Mapping,\n",
                "- OData (`filter`, `orderby`, `search`, `expand`),\n",
                "- Meta-Namen (CreatedBy/ModifiedBy),\n",
                "- GUID-Stripping, deterministische Spaltenreihenfolge,\n",
                "- Unknown-Fields-Handling,\n",
                "- Type-Coercion & `tz_policy`,\n",
                "- `top`, `page_size_hint`,\n",
                "- Diagnostics/`info`, Schema-Dump,\n",
                "- CSV-Export mit `io/writers/csv_writer.py`.\n",
                "\n",
                "> **Voraussetzungen**: Das `graphfw`-Package ist installiert bzw. im Python-Pfad (z. B. `pip install -e .`).  \n",
                "> Außerdem existiert eine gültige `config.json` mit Azure AD App-Credentials.\n"
            ],
            "metadata": {
                "azdata_cell_guid": "915eddbe-921c-4b26-9dbe-4cc3584e135f"
            }
        },
        {
            "cell_type": "code",
            "source": [
                "# --- Setup & Imports ---------------------------------------------------------\n",
                "from graphfw.core.auth import TokenProvider\n",
                "from graphfw.core.http import GraphClient\n",
                "from graphfw.core.logbuffer import LogBuffer\n",
                "\n",
                "from graphfw.domains.sharepoint.lists.items import list_df\n",
                "from graphfw.io.writers.csv_writer import build_csv_path, write_csv\n",
                "\n",
                "# Pfad zu deiner config.json (TenantID, ClientID, ClientSecret)\n",
                "CONFIG_JSON = r\"C:\\python\\Scripts\\config.json\"  # <-- anpassen!\n",
                "\n",
                "# Beispiel-Parameter (bitte anpassen):\n",
                "SITE_URL   = \"https://contoso.sharepoint.com/sites/TeamA\"  # <-- anpassen!\n",
                "LIST_TITLE = \"My Custom List\"                               # <-- anpassen!\n",
                "\n",
                "# GraphClient initialisieren\n",
                "tp = TokenProvider.from_json(CONFIG_JSON)\n",
                "gc = GraphClient(tp)\n",
                "\n",
                "# Optional: zentraler Log-Puffer für dieses Notebook\n",
                "log = LogBuffer()\n"
            ],
            "metadata": {
                "azdata_cell_guid": "2841124f-e9f8-4e15-8dcb-c76b08f80217",
                "language": "sql"
            },
            "outputs": [],
            "execution_count": null
        },
        {
            "cell_type": "markdown",
            "source": [
                "## Parameter-Referenz (`list_df`)\n",
                "\n",
                "| Parameter | Typ | Default | Beschreibung |\n",
                "|---|---|---|---|\n",
                "| `gc` | `GraphClient` | — | Authentifizierter Client mit Retry/Backoff/Paging |\n",
                "| `site_url` | `str` | — | z. B. `https://tenant.sharepoint.com/sites/TeamA` |\n",
                "| `list_title` | `str` | — | Anzeigename der Liste |\n",
                "| `columns` | `str | Sequence[str] | None` | `\"*\"` | Interne Spaltennamen oder `\"*\"` |\n",
                "| `aliases` | `Sequence[str] | None` | `None` | Aliasnamen parallel zu `columns` |\n",
                "| `mapping` | `Sequence[dict] | None` | `None` | Explizites Mapping `{\"source\",\"alias\"}` |\n",
                "| `filter` | `str | None` | `None` | OData-Filter; wird automatisch zu `fields/<expr>` erweitert |\n",
                "| `orderby` | `str | None` | `None` | z. B. `fields/Modified desc` |\n",
                "| `search` | `str | None` | `None` | OData `$search` |\n",
                "| `expand` | `str | Sequence[str] | Sequence[Expand] | None` | `None` | Zusätzliche Expands neben `fields` |\n",
                "| `top` | `int | None` | `None` | Clientseitiges Limit |\n",
                "| `page_size_hint` | `int | None` | `None` | Hinweis für Seitengröße (Performance) |\n",
                "| `tz_policy` | `str` | `\"utc+2\"` | Normalisierung von Datumsfeldern (naiv) |\n",
                "| `type_map` | `dict[str,str] | None` | `None` | z. B. `{ \"Modified\": \"datetime\", \"Amount\": \"float\" }` |\n",
                "| `unknown_fields` | `\"keep\" | \"drop\"` | `\"keep\"` | Verhalten bei `columns=\"*\"` |\n",
                "| `add_meta` | `bool` | `True` | Top-Level-Metadaten (id, sharepointIds, created/modified timestamps) |\n",
                "| `add_created_modified_names` | `bool | None` | `None` | `None`=auto (bei `*` True) |\n",
                "| `include_weburl` | `bool` | `False` | Top-Level `webUrl` zusätzlich |\n",
                "| `include_content_type` | `bool` | `False` | Top-Level `contentType` zusätzlich |\n",
                "| `debug_schema_dump` | `bool` | `False` | Schema & Beispiel-Item dumpen |\n",
                "| `pause_on_missing` | `bool` | `False` | Interaktive Pause bei fehlenden Spalten |\n",
                "| `log` | `LogBuffer | None` | `None` | Optionaler Puffer für strukturierte Logs |\n"
            ],
            "metadata": {
                "azdata_cell_guid": "6b3ac872-bddc-4d13-a00b-66a62510ef98"
            }
        },
        {
            "cell_type": "markdown",
            "source": [
                "### 1) Minimalbeispiel – alle Felder (`columns=\"*\"`)"
            ],
            "metadata": {
                "azdata_cell_guid": "d728783d-dc8e-4b52-a6f1-cde8c68d2cec"
            }
        },
        {
            "cell_type": "code",
            "source": [
                "df1, info1 = list_df(\n",
                "    gc,\n",
                "    site_url=SITE_URL,\n",
                "    list_title=LIST_TITLE,\n",
                "    columns=\"*\",              # alle Felder\n",
                "    tz_policy=\"utc+2\",        # DateTime normalisieren (naiv)\n",
                "    log=log,\n",
                ")\n",
                "print(\"Rows:\", len(df1))\n",
                "display(df1.head(10))\n",
                "info1"
            ],
            "metadata": {
                "azdata_cell_guid": "dcd8946a-a1e5-46c6-a1ca-8250c6703d2a",
                "language": "sql"
            },
            "outputs": [],
            "execution_count": null
        },
        {
            "cell_type": "markdown",
            "source": [
                "### 2) Konkrete Spaltenliste inkl. Meta-Namen (CreatedBy/ModifiedBy)"
            ],
            "metadata": {
                "azdata_cell_guid": "5f348dc1-737f-4d65-9e9a-a2ad592bb311"
            }
        },
        {
            "cell_type": "code",
            "source": [
                "df2, info2 = list_df(\n",
                "    gc,\n",
                "    site_url=SITE_URL,\n",
                "    list_title=LIST_TITLE,\n",
                "    columns=[\"ID\",\"Title\",\"Modified\",\"Created\",\"GUID\",\"createdBy\",\"lastModifiedBy\"],\n",
                "    tz_policy=\"utc+2\",\n",
                "    log=log,\n",
                ")\n",
                "display(df2.head(10))\n",
                "info2"
            ],
            "metadata": {
                "azdata_cell_guid": "17f45bbd-f9eb-4dc5-8139-45ac56f16266",
                "language": "sql"
            },
            "outputs": [],
            "execution_count": null
        },
        {
            "cell_type": "markdown",
            "source": [
                "### 3) Spaltenliste mit Aliases (gleiche Reihenfolge wie `columns`)"
            ],
            "metadata": {
                "azdata_cell_guid": "b5317c89-5578-4687-97c2-912dfe38f091"
            }
        },
        {
            "cell_type": "code",
            "source": [
                "df3, info3 = list_df(\n",
                "    gc,\n",
                "    site_url=SITE_URL,\n",
                "    list_title=LIST_TITLE,\n",
                "    columns=[\"ID\",\"Title\",\"GUID\"],\n",
                "    aliases=[\"ItemID\",\"Titel\",\"GUID\"],\n",
                "    log=log,\n",
                ")\n",
                "display(df3.head(10))\n",
                "info3"
            ],
            "metadata": {
                "azdata_cell_guid": "0ac5cbc6-ae90-44d5-a1bf-ca0fe96570f8",
                "language": "sql"
            },
            "outputs": [],
            "execution_count": null
        },
        {
            "cell_type": "markdown",
            "source": [
                "### 4) Explizites Mapping (inkl. Top-Level & heuristische Auflösung)"
            ],
            "metadata": {
                "azdata_cell_guid": "73853973-65b2-4406-bd45-59185747be7b"
            }
        },
        {
            "cell_type": "code",
            "source": [
                "mapping = [\n",
                "    {\"source\": \"id\", \"alias\": \"ItemID\"},\n",
                "    {\"source\": \"Title\", \"alias\": \"Titel\"},          # → fields.Title\n",
                "    {\"source\": \"GUID\", \"alias\": \"GUID\"},            # strip {}\n",
                "    {\"source\": \"createdBy\", \"alias\": \"CreatedByName\"},\n",
                "    {\"source\": \"lastModifiedBy\", \"alias\": \"ModifiedByName\"},\n",
                "    {\"source\": \"webUrl\", \"alias\": \"Link\"},\n",
                "]\n",
                "df4, info4 = list_df(\n",
                "    gc,\n",
                "    site_url=SITE_URL,\n",
                "    list_title=LIST_TITLE,\n",
                "    mapping=mapping,\n",
                "    log=log,\n",
                ")\n",
                "display(df4.head(10))\n",
                "info4"
            ],
            "metadata": {
                "azdata_cell_guid": "03e3f2b8-c47f-41b0-a301-cfac3ff270dc",
                "language": "sql"
            },
            "outputs": [],
            "execution_count": null
        },
        {
            "cell_type": "markdown",
            "source": [
                "### 5) OData – `filter`, `orderby`, `search`, `expand`"
            ],
            "metadata": {
                "azdata_cell_guid": "c5ded5ac-309e-4350-af32-07b982ef6a07"
            }
        },
        {
            "cell_type": "code",
            "source": [
                "df5, info5 = list_df(\n",
                "    gc,\n",
                "    site_url=SITE_URL,\n",
                "    list_title=LIST_TITLE,\n",
                "    columns=[\"ID\",\"Title\",\"Modified\",\"GUID\"],\n",
                "    filter=\"Status eq 'Open'\",                 # wird zu fields/Status ...\n",
                "    orderby=\"fields/Modified desc\",\n",
                "    search=None,                                 # optional\n",
                "    expand=None,                                 # zusätzliche expands (neben 'fields')\n",
                "    log=log,\n",
                ")\n",
                "display(df5.head(10))\n",
                "info5"
            ],
            "metadata": {
                "azdata_cell_guid": "103c2ea0-40f3-4916-8462-e9e71e67db2b",
                "language": "sql"
            },
            "outputs": [],
            "execution_count": null
        },
        {
            "cell_type": "markdown",
            "source": [
                "### 6) Unknown-Fields-Handling bei `\"*\"`"
            ],
            "metadata": {
                "azdata_cell_guid": "13c9e00b-d52b-42b2-95b3-d6bd30e7117d"
            }
        },
        {
            "cell_type": "code",
            "source": [
                "# keep (Default): nimmt alle unbekannten Felder mit (Diagnosefreundlich)\n",
                "df6a, info6a = list_df(gc, site_url=SITE_URL, list_title=LIST_TITLE, columns=\"*\", unknown_fields=\"keep\", log=log)\n",
                "print(\"keep → cols:\", len(df6a.columns))\n",
                "\n",
                "# drop: nimmt nur bekannte/kerndefinierte Felder\n",
                "df6b, info6b = list_df(gc, site_url=SITE_URL, list_title=LIST_TITLE, columns=\"*\", unknown_fields=\"drop\", log=log)\n",
                "print(\"drop → cols:\", len(df6b.columns))"
            ],
            "metadata": {
                "azdata_cell_guid": "34c5fd5e-8dc8-4858-b274-ba478a798517",
                "language": "sql"
            },
            "outputs": [],
            "execution_count": null
        },
        {
            "cell_type": "markdown",
            "source": [
                "### 7) Type-Coercion & `tz_policy`"
            ],
            "metadata": {
                "azdata_cell_guid": "d6fd8ac1-fe57-47bb-a0ec-89636c3845ef"
            }
        },
        {
            "cell_type": "code",
            "source": [
                "# Beispiel: Modified → datetime, Amount → float\n",
                "df7, info7 = list_df(\n",
                "    gc,\n",
                "    site_url=SITE_URL,\n",
                "    list_title=LIST_TITLE,\n",
                "    columns=[\"ID\",\"Title\",\"Modified\",\"Created\",\"Amount\"],\n",
                "    type_map={\"Modified\": \"datetime\", \"Created\": \"datetime\", \"Amount\": \"float\"},\n",
                "    tz_policy=\"utc\",   # oder \"utc+2\", \"local\"\n",
                "    log=log,\n",
                ")\n",
                "display(df7.dtypes)\n",
                "display(df7.head(10))"
            ],
            "metadata": {
                "azdata_cell_guid": "45fe6e51-18e7-4e20-8981-2e46530763a2",
                "language": "sql"
            },
            "outputs": [],
            "execution_count": null
        },
        {
            "cell_type": "markdown",
            "source": [
                "### 8) `top` & `page_size_hint`"
            ],
            "metadata": {
                "azdata_cell_guid": "8866cb6b-c916-4dac-a55d-3ca13877d50f"
            }
        },
        {
            "cell_type": "code",
            "source": [
                "df8, info8 = list_df(\n",
                "    gc,\n",
                "    site_url=SITE_URL,\n",
                "    list_title=LIST_TITLE,\n",
                "    columns=[\"ID\",\"Title\",\"Modified\"],\n",
                "    top=25,                 # nur 25 Items (clientseitig)\n",
                "    page_size_hint=100,     # Seiten-Hinweis (Performance/Throttling)\n",
                "    log=log,\n",
                ")\n",
                "print(\"Rows:\", len(df8))\n",
                "info8"
            ],
            "metadata": {
                "azdata_cell_guid": "f178b6fa-7752-4e8e-a554-1180c6a5e436",
                "language": "sql"
            },
            "outputs": [],
            "execution_count": null
        },
        {
            "cell_type": "markdown",
            "source": [
                "### 9) Top-Level Zusatzfelder `webUrl`, `contentType`"
            ],
            "metadata": {
                "azdata_cell_guid": "5878edc0-955d-4ddf-95a6-c97c995f4a91"
            }
        },
        {
            "cell_type": "code",
            "source": [
                "df9, info9 = list_df(\n",
                "    gc,\n",
                "    site_url=SITE_URL,\n",
                "    list_title=LIST_TITLE,\n",
                "    columns=[\"ID\",\"Title\",\"GUID\"],\n",
                "    include_weburl=True,\n",
                "    include_content_type=True,\n",
                "    log=log,\n",
                ")\n",
                "display(df9.head(10))\n",
                "info9"
            ],
            "metadata": {
                "azdata_cell_guid": "89d3a660-a078-4366-86e5-85840b53204c",
                "language": "sql"
            },
            "outputs": [],
            "execution_count": null
        },
        {
            "cell_type": "markdown",
            "source": [
                "### 10) Debug: Schema-Dump & Beispiel-Item"
            ],
            "metadata": {
                "azdata_cell_guid": "4e54ff6b-58f7-4aa5-83a7-39889bd66a3f"
            }
        },
        {
            "cell_type": "code",
            "source": [
                "df10, info10 = list_df(\n",
                "    gc,\n",
                "    site_url=SITE_URL,\n",
                "    list_title=LIST_TITLE,\n",
                "    columns=[\"UnbekannteSpalte\",\"ID\",\"Title\"],  # absichtlich eine fehlende\n",
                "    debug_schema_dump=True,\n",
                "    pause_on_missing=False,    # in Notebooks sinnvollerweise False\n",
                "    log=log,\n",
                ")\n",
                "display(df10.head(5))\n",
                "info10"
            ],
            "metadata": {
                "azdata_cell_guid": "5b6421a8-b092-46ad-809f-eb910e05ca1b",
                "language": "sql"
            },
            "outputs": [],
            "execution_count": null
        },
        {
            "cell_type": "markdown",
            "source": [
                "### 11) CSV-Export mit `build_csv_path()` & `write_csv()`"
            ],
            "metadata": {
                "azdata_cell_guid": "ddbdcfb9-2dae-45b8-9620-b6493f694134"
            }
        },
        {
            "cell_type": "code",
            "source": [
                "import os\n",
                "from pathlib import Path\n",
                "\n",
                "out_dir = Path(\"./exports\")\n",
                "out_dir.mkdir(parents=True, exist_ok=True)\n",
                "\n",
                "df_csv, info_csv = list_df(gc, site_url=SITE_URL, list_title=LIST_TITLE, columns=\"*\", log=log)\n",
                "csv_path = build_csv_path(df_csv, site_url=SITE_URL, list_title=LIST_TITLE, out_dir=out_dir, timestamp=True)\n",
                "\n",
                "write_csv(df_csv, csv_path)\n",
                "print(\"CSV gespeichert:\", csv_path)"
            ],
            "metadata": {
                "azdata_cell_guid": "8ba497b7-068c-4978-8bb9-078981f33805",
                "language": "sql"
            },
            "outputs": [],
            "execution_count": null
        },
        {
            "cell_type": "markdown",
            "source": [
                "### 12) LogBuffer – gesammelte Meldungen als DataFrame"
            ],
            "metadata": {
                "azdata_cell_guid": "b3b10548-6a68-49fa-a542-8c93844b409a"
            }
        },
        {
            "cell_type": "code",
            "source": [
                "log_df = log.to_df()\n",
                "display(log_df.head(20))"
            ],
            "metadata": {
                "azdata_cell_guid": "fd73de85-2c06-450a-a0e8-ccef885a8abd",
                "language": "sql"
            },
            "outputs": [],
            "execution_count": null
        }
    ]
}