{
  "cells": [
    {
      "cell_type": "markdown",
      "id": "5e18b8cb",
      "metadata": {},
      "source": [
        "# csv_writer.py — Dokumentation & Beispiele (aktualisiert)\n",
        "\n",
        "Diese Seite beschreibt die vereinfachte CSV‑Writer‑Schnittstelle im Modul `graphfw.io.writers.csv_writer`.\n",
        "\n",
        "> **Kurzfassung:**\n",
        "> Mit `write_csv(...)` exportierst du ein DataFrame als CSV mit Namen nach dem Schema\n",
        "> `\"<prefix>[_<YYYYMMDD>_<hhmmss>][_<postfix>].csv\"`.\n",
        "> Es wird der **vollständige Pfad** der erzeugten Datei zurückgegeben."
      ]
    },
    {
      "cell_type": "markdown",
      "id": "8bd876f8",
      "metadata": {},
      "source": [
        "## Inhalt\n",
        "\n",
        "* [Voraussetzungen](#voraussetzungen)\n",
        "* [API](#api)\n",
        "\n",
        "  * [`build_csv_path`](#build_csv_path)\n",
        "  * [`write_csv`](#write_csv)\n",
        "* [Benennungsschema](#benennungsschema)\n",
        "* [Schnellstart](#schnellstart)\n",
        "* [Beispiel: erzeugte Dateinamen](#beispiel-erzeugte-dateinamen)\n",
        "* [Beispiel: CSV‑Dateiinhalt](#beispiel-csv-dateiinhalt)\n",
        "* [Typische Varianten](#typische-varianten)\n",
        "* [Fehlerszenarien & Verhalten](#fehlerszenarien--verhalten)\n",
        "* [Best Practices](#best-practices)\n"
      ]
    },
    {
      "cell_type": "markdown",
      "id": "d1995bcc",
      "metadata": {
        "heading_collapsed": false,
        "tags": [
          "voraussetzungen"
        ]
      },
      "source": [
        "## Voraussetzungen\n",
        "\n",
        "* Python 3.9+\n",
        "* Ein pandas‑kompatibles DataFrame‑Objekt (z. B. `pandas.DataFrame`) mit Methode `.to_csv(...)`.\n",
        "* Modulpfad: `graphfw/io/writers/csv_writer.py`\n"
      ]
    },
    {
      "cell_type": "code",
      "execution_count": 7,
      "id": "b6448abc",
      "metadata": {},
      "outputs": [
        {
          "data": {
            "text/plain": [
              "'2.3.2'"
            ]
          },
          "execution_count": 7,
          "metadata": {},
          "output_type": "execute_result"
        }
      ],
      "source": [
        "# Imports & Setup\n",
        "from pathlib import Path\n",
        "import pandas as pd\n",
        "import sys\n",
        "\n",
        "import sys\n",
        "sys.path.insert(0, \"..\")  # eine Ebene hoch zum Repo-Root\n",
        "\n",
        "from graphfw.io.writers.csv_writer import build_csv_path, write_csv\n",
        "\n",
        "pd.__version__"
      ]
    },
    {
      "cell_type": "markdown",
      "id": "605fa3aa",
      "metadata": {
        "tags": [
          "api"
        ]
      },
      "source": [
        "## API\n"
      ]
    },
    {
      "cell_type": "markdown",
      "id": "8c6fb817",
      "metadata": {
        "tags": [
          "build_csv_path"
        ]
      },
      "source": [
        "### `build_csv_path`\n",
        "\n",
        "Erzeugt den Zielpfad (im aktuellen Arbeitsverzeichnis, *cwd*) anhand von Namensteilen.\n",
        "\n",
        "```python\n",
        "from graphfw.io.writers.csv_writer import build_csv_path\n",
        "\n",
        "path = build_csv_path(prefix=\"Contoso_SiteA\", postfix=\"List_Projects\", timestamp=True)\n",
        "print(path)\n",
        "# → /aktuelles/arbeitsverzeichnis/Contoso_SiteA_20250912_133001_List_Projects.csv\n",
        "```\n",
        "\n",
        "**Parameter**\n",
        "\n",
        "* `prefix: str` – Erster Namensbestandteil (wird für Dateinamen saniert).\n",
        "* `postfix: str | None` – Optionaler zweiter Bestandteil (wird saniert).\n",
        "* `timestamp: bool = True` – Fügt `YYYYMMDD_hhmmss` **zwischen** `prefix` und `postfix` an.\n",
        "\n",
        "**Rückgabe**\n",
        "\n",
        "* `pathlib.Path` – Vollständiger Pfad (Datei wird **nicht** erstellt).\n"
      ]
    },
    {
      "cell_type": "code",
      "execution_count": 2,
      "id": "90a27271",
      "metadata": {
        "collapsed": false
      },
      "outputs": [],
      "source": [
        "# Beispielcode zu build_csv_path (nicht ausführbar ohne das Projektpaket)\n",
        "from pathlib import Path\n",
        "\n",
        "def _demo_build_csv_path():\n",
        "    # Platzhalter-Demo: so würde der Aufruf aussehen\n",
        "    # from graphfw.io.writers.csv_writer import build_csv_path\n",
        "    # path = build_csv_path(prefix=\"Contoso_SiteA\", postfix=\"List_Projects\", timestamp=True)\n",
        "    # print(path)\n",
        "    pass\n",
        "\n",
        "_demo_build_csv_path()\n"
      ]
    },
    {
      "cell_type": "markdown",
      "id": "6ed48985",
      "metadata": {},
      "source": [
        "### `write_csv`\n",
        "\n",
        "Schreibt ein DataFrame als CSV in das aktuelle Arbeitsverzeichnis und gibt den vollständigen Pfad zurück.\n",
        "\n",
        "```python\n",
        "from graphfw.io.writers.csv_writer import write_csv\n",
        "import pandas as pd\n",
        "\n",
        "df = pd.DataFrame({\"Id\": [1, 2], \"Title\": [\"Alpha\", \"Beta\"], \"Created\": [\"2025-09-12\", \"2025-09-12\"]})\n",
        "\n",
        "csv_path = write_csv(\n",
        "    df,\n",
        "    prefix=\"Contoso_SiteA\",\n",
        "    postfix=\"List_Projects\",\n",
        "    timestamp=True,          # Dateiname mit Zeitstempel (zwischen prefix und postfix)\n",
        "    encoding=\"utf-8-sig\",   # Excel-freundlich\n",
        "    index=False,             # Indexspalte nicht mitschreiben\n",
        "    date_format=None,        # Optionales Datumsformat für pandas\n",
        "    overwrite=False,         # Falls Datei existiert: automatisch _001, _002, ...\n",
        ")\n",
        "print(\"CSV geschrieben nach:\", csv_path)\n",
        "```\n",
        "\n",
        "**Parameter**\n",
        "\n",
        "* `prefix: str` – Erster Namensbestandteil (wird saniert).\n",
        "* `postfix: str | None = None` – Optionaler zweiter Bestandteil.\n",
        "* `timestamp: bool = True` – `YYYYMMDD_hhmmss` **zwischen** `prefix` und `postfix` in den Dateinamen einfügen.\n",
        "* `encoding: str = \"utf-8-sig\"` – Standard‑Encoding (Excel‑geeignet).\n",
        "* `index: bool = False` – DataFrame‑Index mitschreiben.\n",
        "* `date_format: str | None = None` – pandas‑`date_format` für Datumsspalten.\n",
        "* `overwrite: bool = False` – Vorhandene Datei überschreiben (True) oder eindeutig machen (`_001`, `_002`, …).\n",
        "\n",
        "**Rückgabe**\n",
        "\n",
        "* `pathlib.Path` – Pfad der **erzeugten** CSV‑Datei.\n"
      ]
    },
    {
      "cell_type": "code",
      "execution_count": 3,
      "id": "19ce315d",
      "metadata": {
        "collapsed": false
      },
      "outputs": [
        {
          "data": {
            "application/vnd.microsoft.datawrangler.viewer.v0+json": {
              "columns": [
                {
                  "name": "index",
                  "rawType": "int64",
                  "type": "integer"
                },
                {
                  "name": "OrderId",
                  "rawType": "int64",
                  "type": "integer"
                },
                {
                  "name": "Customer",
                  "rawType": "object",
                  "type": "string"
                },
                {
                  "name": "Amount",
                  "rawType": "float64",
                  "type": "float"
                },
                {
                  "name": "Created",
                  "rawType": "object",
                  "type": "string"
                }
              ],
              "ref": "675de38b-929e-4b45-aa04-7afe218ccbe5",
              "rows": [
                [
                  "0",
                  "1001",
                  "Fabrikam",
                  "199.9",
                  "2025-09-12"
                ],
                [
                  "1",
                  "1002",
                  "Contoso",
                  "49.0",
                  "2025-09-12"
                ]
              ],
              "shape": {
                "columns": 4,
                "rows": 2
              }
            },
            "text/html": [
              "<div>\n",
              "<style scoped>\n",
              "    .dataframe tbody tr th:only-of-type {\n",
              "        vertical-align: middle;\n",
              "    }\n",
              "\n",
              "    .dataframe tbody tr th {\n",
              "        vertical-align: top;\n",
              "    }\n",
              "\n",
              "    .dataframe thead th {\n",
              "        text-align: right;\n",
              "    }\n",
              "</style>\n",
              "<table border=\"1\" class=\"dataframe\">\n",
              "  <thead>\n",
              "    <tr style=\"text-align: right;\">\n",
              "      <th></th>\n",
              "      <th>OrderId</th>\n",
              "      <th>Customer</th>\n",
              "      <th>Amount</th>\n",
              "      <th>Created</th>\n",
              "    </tr>\n",
              "  </thead>\n",
              "  <tbody>\n",
              "    <tr>\n",
              "      <th>0</th>\n",
              "      <td>1001</td>\n",
              "      <td>Fabrikam</td>\n",
              "      <td>199.9</td>\n",
              "      <td>2025-09-12</td>\n",
              "    </tr>\n",
              "    <tr>\n",
              "      <th>1</th>\n",
              "      <td>1002</td>\n",
              "      <td>Contoso</td>\n",
              "      <td>49.0</td>\n",
              "      <td>2025-09-12</td>\n",
              "    </tr>\n",
              "  </tbody>\n",
              "</table>\n",
              "</div>"
            ],
            "text/plain": [
              "   OrderId  Customer  Amount     Created\n",
              "0     1001  Fabrikam   199.9  2025-09-12\n",
              "1     1002   Contoso    49.0  2025-09-12"
            ]
          },
          "execution_count": 3,
          "metadata": {},
          "output_type": "execute_result"
        }
      ],
      "source": [
        "# Schnellstart-Beispiel (ausführbar, wenn pandas und das Paket installiert sind)\n",
        "import pandas as pd\n",
        "\n",
        "orders = pd.DataFrame([\n",
        "    {\"OrderId\": 1001, \"Customer\": \"Fabrikam\", \"Amount\": 199.90, \"Created\": \"2025-09-12\"},\n",
        "    {\"OrderId\": 1002, \"Customer\": \"Contoso\",  \"Amount\":  49.00, \"Created\": \"2025-09-12\"},\n",
        "])\n",
        "orders"
      ]
    },
    {
      "cell_type": "code",
      "execution_count": 9,
      "id": "b1ba37f7",
      "metadata": {},
      "outputs": [
        {
          "name": "stdout",
          "output_type": "stream",
          "text": [
            "C:\\Users\\erhard.rainer\\Documents\\GitHub\\GRAPH_API\\_output\\orders_20250912_021802.csv\n"
          ]
        }
      ],
      "source": [
        "csv_path = write_csv(\n",
        "    orders,  # dein DataFrame\n",
        "    prefix=\"orders\",\n",
        "    timestamp=True,\n",
        "    directory=r\"C:\\Users\\erhard.rainer\\Documents\\GitHub\\GRAPH_API\\_output\",\n",
        "    encoding=\"utf-8-sig\",\n",
        "    index=False,\n",
        ")\n",
        "\n",
        "print(csv_path)  # voller Pfad zur geschriebenen CSV"
      ]
    },
    {
      "cell_type": "code",
      "execution_count": 10,
      "id": "7a0fb3e8",
      "metadata": {},
      "outputs": [
        {
          "name": "stdout",
          "output_type": "stream",
          "text": [
            "C:\\Users\\erhard.rainer\\Documents\\GitHub\\GRAPH_API\\_output\\orders_20250912_021841.csv\n",
            "WindowsPath\n"
          ]
        }
      ],
      "source": [
        "csv_path = write_csv(\n",
        "    orders,  # dein DataFrame\n",
        "    prefix=\"orders\",\n",
        "    timestamp=True,\n",
        "    directory=r\"C:\\Users\\erhard.rainer\\Documents\\GitHub\\GRAPH_API\\_output\",\n",
        "    encoding=\"utf-8-sig\",\n",
        "    index=False,\n",
        ")\n",
        "\n",
        "print(csv_path)               # -> WindowsPath('C:/Users/.../_output/orders_YYYYMMDD_hhmmss.csv')\n",
        "print(type(csv_path).__name__)# -> 'WindowsPath' (unter Windows)\n"
      ]
    },
    {
      "cell_type": "markdown",
      "id": "137cc399",
      "metadata": {
        "tags": [
          "benennungsschema"
        ]
      },
      "source": [
        "## Benennungsschema\n",
        "\n",
        "`<prefix>[_<YYYYMMDD>_<hhmmss>][_<postfix>].csv`\n",
        "\n",
        "**Beispiele**\n",
        "\n",
        "* `Contoso_SiteA_20250912_133001_List_Projects.csv`\n",
        "* `Export_20250103_081500_Users.csv`\n",
        "* `AuditTrail.csv` *(wenn `timestamp=False` und kein `postfix` übergeben)*\n",
        "\n",
        "> **Hinweis:** `prefix`/`postfix` werden automatisch für Dateinamen bereinigt (unerlaubte/ungünstige Zeichen werden ersetzt).\n"
      ]
    },
    {
      "cell_type": "markdown",
      "id": "64efcbef",
      "metadata": {
        "tags": [
          "schnellstart"
        ]
      },
      "source": [
        "## Schnellstart\n",
        "\n",
        "```python\n",
        "from graphfw.io.writers.csv_writer import write_csv\n",
        "import pandas as pd\n",
        "\n",
        "# Beispiel-DataFrame\n",
        "orders = pd.DataFrame([\n",
        "    {\"OrderId\": 1001, \"Customer\": \"Fabrikam\", \"Amount\": 199.90, \"Created\": \"2025-09-12\"},\n",
        "    {\"OrderId\": 1002, \"Customer\": \"Contoso\",  \"Amount\":  49.00, \"Created\": \"2025-09-12\"},\n",
        "])\n",
        "\n",
        "# 1) Standardexport mit Zeitstempel (zwischen prefix und postfix)\n",
        "p1 = write_csv(orders, prefix=\"Sales\", postfix=\"Orders\", timestamp=True)\n",
        "print(p1.name)  # Sales_20250912_133001_Orders.csv\n",
        "\n",
        "# 2) Stabiler Name ohne Zeitstempel (potenzielles Overwrite steuern)\n",
        "p2 = write_csv(orders, prefix=\"Sales\", postfix=\"Orders\", timestamp=False, overwrite=False)\n",
        "print(p2.name)  # ggf. Sales_Orders.csv oder Sales_Orders_001.csv\n",
        "\n",
        "# 3) Überschreiben explizit erlauben\n",
        "p3 = write_csv(orders, prefix=\"Sales\", postfix=\"Orders\", timestamp=False, overwrite=True)\n",
        "print(p3.name)  # Sales_Orders.csv\n",
        "```\n"
      ]
    },
    {
      "cell_type": "markdown",
      "id": "4cb8a109",
      "metadata": {
        "tags": [
          "beispiel-erzeugte-dateinamen"
        ]
      },
      "source": [
        "## Beispiel: erzeugte Dateinamen\n",
        "\n",
        "Angenommen, aktuelles Datum/Zeit ist **2025‑09‑12 13:30:01** und *cwd* ist `/export`.\n",
        "\n",
        "| Aufruf (relevant)                                                            | Ergebnis-Dateiname                                |\n",
        "| ---------------------------------------------------------------------------- | ------------------------------------------------- |\n",
        "| `prefix=\"Contoso_SiteA\"`, `postfix=\"List_Projects\"`, `timestamp=True`        | `Contoso_SiteA_20250912_133001_List_Projects.csv` |\n",
        "| `prefix=\"AuditTrail\"`, `timestamp=False`                                     | `AuditTrail.csv`                                  |\n",
        "| `prefix=\"AuditTrail\"`, `timestamp=False`, Datei existiert, `overwrite=False` | `AuditTrail_001.csv` *(bzw. `_002`, …)*           |\n",
        "\n",
        "Vollständiger Pfad entspricht dann z. B. `/export/Contoso_SiteA_20250912_133001_List_Projects.csv`.\n"
      ]
    },
    {
      "cell_type": "markdown",
      "id": "1b79e33d",
      "metadata": {
        "tags": [
          "beispiel-csv-dateiinhalt"
        ]
      },
      "source": [
        "## Beispiel: CSV‑Dateiinhalt\n",
        "\n",
        "Für das im Schnellstart gezeigte `orders`‑DataFrame ergibt sich z. B. folgendes CSV (mit `encoding=\"utf-8-sig\"`, `index=False`):\n",
        "\n",
        "```csv\n",
        "OrderId,Customer,Amount,Created\n",
        "1001,Fabrikam,199.9,2025-09-12\n",
        "1002,Contoso,49.0,2025-09-12\n",
        "```\n",
        "\n",
        "Mit `index=True` sähe der Anfang so aus:\n",
        "\n",
        "```csv\n",
        ",OrderId,Customer,Amount,Created\n",
        "0,1001,Fabrikam,199.9,2025-09-12\n",
        "1,1002,Contoso,49.0,2025-09-12\n",
        "```\n",
        "\n",
        "Mit `date_format=\"%Y-%m-%d\"` formatiert pandas Datumsspalten entsprechend, z. B. `2025-09-12`.\n"
      ]
    },
    {
      "cell_type": "markdown",
      "id": "9f32e720",
      "metadata": {
        "tags": [
          "typische-varianten"
        ]
      },
      "source": [
        "## Typische Varianten\n",
        "\n",
        "**Ohne Postfix, mit Zeitstempel**\n",
        "\n",
        "```python\n",
        "path = write_csv(df, prefix=\"Inventory\", timestamp=True)\n",
        "# Inventory_20250912_133001.csv\n",
        "```\n",
        "\n",
        "**Mit Postfix und Zeitstempel**\n",
        "\n",
        "```python\n",
        "path = write_csv(df, prefix=\"Inventory\", postfix=\"Reports\", timestamp=True)\n",
        "# Inventory_20250912_133001_Reports.csv\n",
        "```\n",
        "\n",
        "**Fester Name ohne Zeitstempel, Duplikate vermeiden**\n",
        "\n",
        "```python\n",
        "path = write_csv(df, prefix=\"Inventory\", postfix=\"Reports\", timestamp=False, overwrite=False)\n",
        "# Inventory_Reports.csv oder Inventory_Reports_001.csv, falls bereits vorhanden\n",
        "```\n",
        "\n",
        "**Explizites Überschreiben (vorsichtig einsetzen)**\n",
        "\n",
        "```python\n",
        "path = write_csv(df, prefix=\"Inventory\", postfix=\"Reports\", timestamp=False, overwrite=True)\n",
        "# Überschreibt Inventory_Reports.csv, falls vorhanden\n",
        "```\n"
      ]
    },
    {
      "cell_type": "markdown",
      "id": "8337e077",
      "metadata": {
        "tags": [
          "fehlerszenarien-verhalten"
        ]
      },
      "source": [
        "## Fehlerszenarien & Verhalten\n",
        "\n",
        "* **Datei existiert & `overwrite=False`** → automatischer Suffix `_001`, `_002`, … bis eindeutiger Name gefunden wird.\n",
        "* **Ungültige Zeichen in `prefix`/`postfix`** → werden automatisch bereinigt (sanitizing), damit ein gültiger Dateiname entsteht.\n",
        "* **Ordner nicht vorhanden** → wird bei Bedarf erstellt (über `Path.mkdir(parents=True, exist_ok=True)`).\n",
        "* **Schreibfehler (z. B. Berechtigungen)** → Exception von `df.to_csv(...)`/`OSError` propagiert.\n"
      ]
    },
    {
      "cell_type": "markdown",
      "id": "bff01ef2",
      "metadata": {
        "tags": [
          "best-practices"
        ]
      },
      "source": [
        "## Best Practices\n",
        "\n",
        "* Für Excel‑Kompatibilität `encoding=\"utf-8-sig\"` belassen.\n",
        "* Für reproduzierbare Exporte ohne Overwrite‑Risiko `timestamp=True` verwenden.\n",
        "* Für Snapshots mit klarer Reihenfolge: kombinierte `prefix`/`postfix` mit semantischen Tokens nutzen, z. B. `prefix=\"HR\"`, `postfix=\"Users_DE\"`.\n",
        "* `date_format` nur setzen, wenn du sicher bist, dass alle relevanten Spalten als Datum interpretiert werden.\n"
      ]
    }
  ],
  "metadata": {
    "kernelspec": {
      "display_name": ".venv",
      "language": "python",
      "name": "python3"
    },
    "language_info": {
      "codemirror_mode": {
        "name": "ipython",
        "version": 3
      },
      "file_extension": ".py",
      "mimetype": "text/x-python",
      "name": "python",
      "nbconvert_exporter": "python",
      "pygments_lexer": "ipython3",
      "version": "3.11.9"
    }
  },
  "nbformat": 4,
  "nbformat_minor": 5
}
