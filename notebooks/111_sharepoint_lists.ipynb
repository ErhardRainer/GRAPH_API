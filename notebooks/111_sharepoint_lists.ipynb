{
 "cells": [
  {
   "cell_type": "code",
   "execution_count": null,
   "id": "2a109022",
   "metadata": {},
   "outputs": [],
   "source": [
    "# Sites als vollstände URL"
   ]
  },
  {
   "cell_type": "code",
   "execution_count": null,
   "id": "c18afa3c",
   "metadata": {},
   "outputs": [],
   "source": [
    "from graphfw.core.auth import TokenProvider\n",
    "from graphfw.core.http import GraphClient\n",
    "from graphfw.domains.sharepoint.sites.lists import list_df\n",
    "\n",
    "tp = TokenProvider.from_json(\"config.json\")\n",
    "gc = GraphClient(tp)\n",
    "\n",
    "df, info = list_df(gc, site=\"https://contoso.sharepoint.com/sites/HR\")\n",
    "print(df.head())\n",
    "print(info)\n"
   ]
  },
  {
   "cell_type": "markdown",
   "id": "b0a29294",
   "metadata": {},
   "source": [
    "# Root-Site als URL (ohne /sites/…)"
   ]
  },
  {
   "cell_type": "code",
   "execution_count": null,
   "id": "e0e4ae45",
   "metadata": {},
   "outputs": [],
   "source": [
    "from graphfw.core.auth import TokenProvider\n",
    "from graphfw.core.http import GraphClient\n",
    "from graphfw.domains.sharepoint.sites.lists import list_df\n",
    "\n",
    "tp = TokenProvider.from_json(\"config.json\")\n",
    "gc = GraphClient(tp)\n",
    "\n",
    "df, info = list_df(gc, site=\"https://contoso.sharepoint.com\")\n",
    "print(df[[\"id\", \"name\", \"url\"]].head())\n"
   ]
  },
  {
   "cell_type": "markdown",
   "id": "2ff6243b",
   "metadata": {},
   "source": [
    "Zusammengesetzte Site-ID"
   ]
  },
  {
   "cell_type": "code",
   "execution_count": null,
   "id": "266b2351",
   "metadata": {},
   "outputs": [],
   "source": [
    "from graphfw.core.auth import TokenProvider\n",
    "from graphfw.core.http import GraphClient\n",
    "from graphfw.domains.sharepoint.sites.lists import list_df\n",
    "\n",
    "tp = TokenProvider.from_json(\"config.json\")\n",
    "gc = GraphClient(tp)\n",
    "\n",
    "site_id = \"contoso.sharepoint.com,1a2b3c4d-eeee-ffff-1111-222233334444,55556666-7777-8888-9999-aaaabbbbcccc\"\n",
    "df, info = list_df(gc, site=site_id)\n",
    "print(len(df), \"Listen gefunden\")\n"
   ]
  },
  {
   "cell_type": "markdown",
   "id": "97e6be9b",
   "metadata": {},
   "source": [
    "Bereits fertiges Graph-Segment (sites/...)"
   ]
  },
  {
   "cell_type": "code",
   "execution_count": null,
   "id": "7a997bc6",
   "metadata": {},
   "outputs": [],
   "source": [
    "from graphfw.core.auth import TokenProvider\n",
    "from graphfw.core.http import GraphClient\n",
    "from graphfw.domains.sharepoint.sites.lists import list_df\n",
    "\n",
    "tp = TokenProvider.from_json(\"config.json\")\n",
    "gc = GraphClient(tp)\n",
    "\n",
    "segment = \"sites/contoso.sharepoint.com:/sites/HR:\"\n",
    "df, info = list_df(gc, site=segment)\n",
    "print(df.sort_values(\"name\").head(10))\n"
   ]
  },
  {
   "cell_type": "markdown",
   "id": "80223afe",
   "metadata": {},
   "source": [
    "Mit clientseitigem Limit (top) – schnell testen"
   ]
  },
  {
   "cell_type": "code",
   "execution_count": null,
   "id": "7dfd1d23",
   "metadata": {},
   "outputs": [],
   "source": [
    "from graphfw.core.auth import TokenProvider\n",
    "from graphfw.core.http import GraphClient\n",
    "from graphfw.domains.sharepoint.sites.lists import list_df\n",
    "\n",
    "tp = TokenProvider.from_json(\"config.json\")\n",
    "gc = GraphClient(tp)\n",
    "\n",
    "df, info = list_df(gc, site=\"https://contoso.sharepoint.com/sites/HR\", top=5)\n",
    "print(df)\n",
    "print(\"Diagnostics:\", info)\n"
   ]
  },
  {
   "cell_type": "markdown",
   "id": "04e6e17a",
   "metadata": {},
   "source": [
    "Mehrere Sites in einem Rutsch (zusammenführen)"
   ]
  },
  {
   "cell_type": "code",
   "execution_count": null,
   "id": "bed37ac0",
   "metadata": {},
   "outputs": [],
   "source": [
    "from graphfw.core.auth import TokenProvider\n",
    "from graphfw.core.http import GraphClient\n",
    "from graphfw.domains.sharepoint.sites.lists import list_df\n",
    "import pandas as pd\n",
    "\n",
    "tp = TokenProvider.from_json(\"config.json\")\n",
    "gc = GraphClient(tp)\n",
    "\n",
    "sites = [\n",
    "    \"https://contoso.sharepoint.com/sites/HR\",\n",
    "    \"https://contoso.sharepoint.com/sites/Finance\",\n",
    "    \"sites/contoso.sharepoint.com:/sites/Marketing:\",\n",
    "]\n",
    "\n",
    "frames = []\n",
    "for s in sites:\n",
    "    df, info = list_df(gc, site=s)\n",
    "    df[\"__site\"] = s\n",
    "    frames.append(df)\n",
    "\n",
    "result = pd.concat(frames, ignore_index=True)\n",
    "print(result[[\"__site\", \"name\", \"url\"]].head(20))\n"
   ]
  },
  {
   "cell_type": "markdown",
   "id": "5632a23f",
   "metadata": {},
   "source": [
    "Einfache Fehlerbehandlung + saubere Ausgabe"
   ]
  },
  {
   "cell_type": "code",
   "execution_count": null,
   "id": "9ba58e3a",
   "metadata": {},
   "outputs": [],
   "source": [
    "from graphfw.core.auth import TokenProvider\n",
    "from graphfw.core.http import GraphClient\n",
    "from graphfw.domains.sharepoint.sites.lists import list_df\n",
    "\n",
    "tp = TokenProvider.from_json(\"config.json\")\n",
    "gc = GraphClient(tp)\n",
    "\n",
    "try:\n",
    "    df, info = list_df(gc, site=\"https://contoso.sharepoint.com/sites/UnknownSite\")\n",
    "    print(df)\n",
    "except RuntimeError as ex:\n",
    "    print(\"Fehler:\", ex)\n"
   ]
  }
 ],
 "metadata": {
  "language_info": {
   "name": "python"
  }
 },
 "nbformat": 4,
 "nbformat_minor": 5
}
