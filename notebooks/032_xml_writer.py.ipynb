{
  "cells": [
    {
      "cell_type": "markdown",
      "metadata": {},
      "source": [
        "# XML Writer – Demo\n",
        "\n",
        "Dieses Notebook zeigt die Verwendung von `graphfw.io.writers.xml_writer` mit dem Namensschema:\n",
        "\n",
        "`<prefix>[_<YYYYMMDD>_<hhmmss>][_<postfix>].xml`\n",
        "\n",
        "**Ziele:**\n",
        "- DataFrame erstellen\n",
        "- XML-Dateipfad vorschauen (`build_xml_path`)\n",
        "- XML exportieren (`write_xml`)\n",
        "- Ergebnis prüfen und optional wieder einlesen (`pandas.read_xml`)\n"
      ]
    },
    {
      "cell_type": "code",
      "execution_count": 7,
      "metadata": {
        "collapsed": false
      },
      "outputs": [
        {
          "data": {
            "text/plain": [
              "'2.3.2'"
            ]
          },
          "execution_count": 7,
          "metadata": {},
          "output_type": "execute_result"
        }
      ],
      "source": [
        "# Imports & Setup\n",
        "from pathlib import Path\n",
        "import pandas as pd\n",
        "import sys\n",
        "\n",
        "import sys\n",
        "sys.path.insert(0, \"..\")  # eine Ebene hoch zum Repo-Root\n",
        "\n",
        "from graphfw.io.writers.xml_writer import build_xml_path, write_xml\n",
        "\n",
        "pd.__version__"
      ]
    },
    {
      "cell_type": "markdown",
      "metadata": {},
      "source": [
        "## Beispiel-Daten vorbereiten"
      ]
    },
    {
      "cell_type": "code",
      "execution_count": 8,
      "metadata": {},
      "outputs": [
        {
          "data": {
            "application/vnd.microsoft.datawrangler.viewer.v0+json": {
              "columns": [
                {
                  "name": "index",
                  "rawType": "int64",
                  "type": "integer"
                },
                {
                  "name": "Id",
                  "rawType": "int64",
                  "type": "integer"
                },
                {
                  "name": "Title",
                  "rawType": "object",
                  "type": "string"
                },
                {
                  "name": "Amount",
                  "rawType": "float64",
                  "type": "float"
                },
                {
                  "name": "Created",
                  "rawType": "datetime64[ns]",
                  "type": "datetime"
                }
              ],
              "ref": "c6a4703c-8820-4cce-9573-d8b64f36d10c",
              "rows": [
                [
                  "0",
                  "1001",
                  "Alpha",
                  "199.9",
                  "2025-09-12 00:00:00"
                ],
                [
                  "1",
                  "1002",
                  "Beta",
                  "49.0",
                  "2025-09-12 00:00:00"
                ],
                [
                  "2",
                  "1003",
                  "Gamma",
                  "325.5",
                  "2025-09-12 00:00:00"
                ]
              ],
              "shape": {
                "columns": 4,
                "rows": 3
              }
            },
            "text/html": [
              "<div>\n",
              "<style scoped>\n",
              "    .dataframe tbody tr th:only-of-type {\n",
              "        vertical-align: middle;\n",
              "    }\n",
              "\n",
              "    .dataframe tbody tr th {\n",
              "        vertical-align: top;\n",
              "    }\n",
              "\n",
              "    .dataframe thead th {\n",
              "        text-align: right;\n",
              "    }\n",
              "</style>\n",
              "<table border=\"1\" class=\"dataframe\">\n",
              "  <thead>\n",
              "    <tr style=\"text-align: right;\">\n",
              "      <th></th>\n",
              "      <th>Id</th>\n",
              "      <th>Title</th>\n",
              "      <th>Amount</th>\n",
              "      <th>Created</th>\n",
              "    </tr>\n",
              "  </thead>\n",
              "  <tbody>\n",
              "    <tr>\n",
              "      <th>0</th>\n",
              "      <td>1001</td>\n",
              "      <td>Alpha</td>\n",
              "      <td>199.9</td>\n",
              "      <td>2025-09-12</td>\n",
              "    </tr>\n",
              "    <tr>\n",
              "      <th>1</th>\n",
              "      <td>1002</td>\n",
              "      <td>Beta</td>\n",
              "      <td>49.0</td>\n",
              "      <td>2025-09-12</td>\n",
              "    </tr>\n",
              "    <tr>\n",
              "      <th>2</th>\n",
              "      <td>1003</td>\n",
              "      <td>Gamma</td>\n",
              "      <td>325.5</td>\n",
              "      <td>2025-09-12</td>\n",
              "    </tr>\n",
              "  </tbody>\n",
              "</table>\n",
              "</div>"
            ],
            "text/plain": [
              "     Id  Title  Amount    Created\n",
              "0  1001  Alpha   199.9 2025-09-12\n",
              "1  1002   Beta    49.0 2025-09-12\n",
              "2  1003  Gamma   325.5 2025-09-12"
            ]
          },
          "execution_count": 8,
          "metadata": {},
          "output_type": "execute_result"
        }
      ],
      "source": [
        "df = pd.DataFrame(\n",
        "    {\n",
        "        \"Id\": [1001, 1002, 1003],\n",
        "        \"Title\": [\"Alpha\", \"Beta\", \"Gamma\"],\n",
        "        \"Amount\": [199.90, 49.00, 325.50],\n",
        "        \"Created\": pd.to_datetime([\"2025-09-12\", \"2025-09-12\", \"2025-09-12\"]) ,\n",
        "    }\n",
        ")\n",
        "df"
      ]
    },
    {
      "cell_type": "markdown",
      "metadata": {},
      "source": [
        "## Pfadvorschau erzeugen (`build_xml_path`)\n",
        "Der Pfad wird **nicht** angelegt, sondern nur gemäß Schema generiert."
      ]
    },
    {
      "cell_type": "code",
      "execution_count": 3,
      "metadata": {},
      "outputs": [
        {
          "data": {
            "text/plain": [
              "(WindowsPath('c:/Users/erhard.rainer/Documents/GitHub/GRAPH_API/notebooks/Export_20250912_020116_Orders.xml'),\n",
              " WindowsPath('c:/Users/erhard.rainer/Documents/GitHub/GRAPH_API/notebooks/Export_Orders.xml'))"
            ]
          },
          "execution_count": 3,
          "metadata": {},
          "output_type": "execute_result"
        }
      ],
      "source": [
        "preview_with_ts = build_xml_path(prefix=\"Export\", postfix=\"Orders\", timestamp=True)\n",
        "preview_no_ts  = build_xml_path(prefix=\"Export\", postfix=\"Orders\", timestamp=False)\n",
        "preview_with_ts, preview_no_ts"
      ]
    },
    {
      "cell_type": "markdown",
      "metadata": {},
      "source": [
        "## XML schreiben (`write_xml`)\n",
        "Standardmäßig wird im **aktuellen Arbeitsverzeichnis (cwd)** gespeichert.\n",
        "\n",
        "Parameter-Highlights:\n",
        "- `timestamp=True` fügt `YYYYMMDD_hhmmss` **zwischen** `prefix` und `postfix` ein\n",
        "- `overwrite=False` erzeugt bei Kollision automatisch `_001`, `_002`, ..."
      ]
    },
    {
      "cell_type": "code",
      "execution_count": 10,
      "metadata": {},
      "outputs": [
        {
          "ename": "TypeError",
          "evalue": "write_xml() got an unexpected keyword argument 'directory'",
          "output_type": "error",
          "traceback": [
            "\u001b[31m---------------------------------------------------------------------------\u001b[39m",
            "\u001b[31mTypeError\u001b[39m                                 Traceback (most recent call last)",
            "\u001b[36mCell\u001b[39m\u001b[36m \u001b[39m\u001b[32mIn[10]\u001b[39m\u001b[32m, line 1\u001b[39m\n\u001b[32m----> \u001b[39m\u001b[32m1\u001b[39m xml_path_1 = \u001b[43mwrite_xml\u001b[49m\u001b[43m(\u001b[49m\n\u001b[32m      2\u001b[39m \u001b[43m    \u001b[49m\u001b[43mdf\u001b[49m\u001b[43m,\u001b[49m\n\u001b[32m      3\u001b[39m \u001b[43m    \u001b[49m\u001b[43mprefix\u001b[49m\u001b[43m=\u001b[49m\u001b[33;43m\"\u001b[39;49m\u001b[33;43mExport\u001b[39;49m\u001b[33;43m\"\u001b[39;49m\u001b[43m,\u001b[49m\n\u001b[32m      4\u001b[39m \u001b[43m    \u001b[49m\u001b[43mpostfix\u001b[49m\u001b[43m=\u001b[49m\u001b[33;43m\"\u001b[39;49m\u001b[33;43mOrders\u001b[39;49m\u001b[33;43m\"\u001b[39;49m\u001b[43m,\u001b[49m\n\u001b[32m      5\u001b[39m \u001b[43m    \u001b[49m\u001b[43mtimestamp\u001b[49m\u001b[43m=\u001b[49m\u001b[38;5;28;43;01mTrue\u001b[39;49;00m\u001b[43m,\u001b[49m\n\u001b[32m      6\u001b[39m \u001b[43m    \u001b[49m\u001b[43mdirectory\u001b[49m\u001b[43m=\u001b[49m\u001b[33;43mr\u001b[39;49m\u001b[33;43m\"\u001b[39;49m\u001b[33;43mC:\u001b[39;49m\u001b[33;43m\\\u001b[39;49m\u001b[33;43mUsers\u001b[39;49m\u001b[33;43m\\\u001b[39;49m\u001b[33;43merhard.rainer\u001b[39;49m\u001b[33;43m\\\u001b[39;49m\u001b[33;43mDocuments\u001b[39;49m\u001b[33;43m\\\u001b[39;49m\u001b[33;43mGitHub\u001b[39;49m\u001b[33;43m\\\u001b[39;49m\u001b[33;43mGRAPH_API\u001b[39;49m\u001b[33;43m\\\u001b[39;49m\u001b[33;43m_output\u001b[39;49m\u001b[33;43m\"\u001b[39;49m\u001b[43m,\u001b[49m\n\u001b[32m      7\u001b[39m \u001b[43m    \u001b[49m\u001b[43mencoding\u001b[49m\u001b[43m=\u001b[49m\u001b[33;43m\"\u001b[39;49m\u001b[33;43mutf-8\u001b[39;49m\u001b[33;43m\"\u001b[39;49m\u001b[43m,\u001b[49m\n\u001b[32m      8\u001b[39m \u001b[43m    \u001b[49m\u001b[43mindex\u001b[49m\u001b[43m=\u001b[49m\u001b[38;5;28;43;01mFalse\u001b[39;49;00m\u001b[43m,\u001b[49m\n\u001b[32m      9\u001b[39m \u001b[43m    \u001b[49m\u001b[43mroot_name\u001b[49m\u001b[43m=\u001b[49m\u001b[33;43m\"\u001b[39;49m\u001b[33;43mitems\u001b[39;49m\u001b[33;43m\"\u001b[39;49m\u001b[43m,\u001b[49m\n\u001b[32m     10\u001b[39m \u001b[43m    \u001b[49m\u001b[43mrow_name\u001b[49m\u001b[43m=\u001b[49m\u001b[33;43m\"\u001b[39;49m\u001b[33;43mitem\u001b[39;49m\u001b[33;43m\"\u001b[39;49m\u001b[43m,\u001b[49m\n\u001b[32m     11\u001b[39m \u001b[43m    \u001b[49m\u001b[43mxml_declaration\u001b[49m\u001b[43m=\u001b[49m\u001b[38;5;28;43;01mTrue\u001b[39;49;00m\u001b[43m,\u001b[49m\n\u001b[32m     12\u001b[39m \u001b[43m    \u001b[49m\u001b[43mpretty_print\u001b[49m\u001b[43m=\u001b[49m\u001b[38;5;28;43;01mTrue\u001b[39;49;00m\u001b[43m,\u001b[49m\n\u001b[32m     13\u001b[39m \u001b[43m    \u001b[49m\u001b[43moverwrite\u001b[49m\u001b[43m=\u001b[49m\u001b[38;5;28;43;01mFalse\u001b[39;49;00m\u001b[43m,\u001b[49m\n\u001b[32m     14\u001b[39m \u001b[43m)\u001b[49m\n\u001b[32m     15\u001b[39m xml_path_1\n",
            "\u001b[31mTypeError\u001b[39m: write_xml() got an unexpected keyword argument 'directory'"
          ]
        }
      ],
      "source": [
        "xml_path_1 = write_xml(\n",
        "    df,\n",
        "    prefix=\"Export\",\n",
        "    postfix=\"Orders\",\n",
        "    timestamp=True,\n",
        "    directory=r\"C:\\Users\\erhard.rainer\\Documents\\GitHub\\GRAPH_API\\_output\",\n",
        "    encoding=\"utf-8\",\n",
        "    index=False,\n",
        "    root_name=\"items\",\n",
        "    row_name=\"item\",\n",
        "    xml_declaration=True,\n",
        "    pretty_print=True,\n",
        "    overwrite=False,\n",
        ")\n",
        "xml_path_1"
      ]
    },
    {
      "cell_type": "markdown",
      "metadata": {},
      "source": [
        "## Datei inspizieren (erste Zeilen anzeigen)"
      ]
    },
    {
      "cell_type": "code",
      "execution_count": null,
      "metadata": {},
      "outputs": [],
      "source": [
        "text = Path(xml_path_1).read_text(encoding=\"utf-8\")\n",
        "print(\"\\n\".join(text.splitlines()[:20]))"
      ]
    },
    {
      "cell_type": "markdown",
      "metadata": {},
      "source": [
        "## Ohne Zeitstempel (stabiler Name)\n",
        "Bei `timestamp=False` lautet der Name `prefix[_postfix].xml`. Existiert die Datei bereits und `overwrite=False`, wird automatisch `_001`, `_002`, … angehängt."
      ]
    },
    {
      "cell_type": "code",
      "execution_count": null,
      "metadata": {},
      "outputs": [],
      "source": [
        "xml_path_2 = write_xml(\n",
        "    df,\n",
        "    prefix=\"Export\",\n",
        "    postfix=\"Orders\",\n",
        "    timestamp=False,\n",
        "    overwrite=False,\n",
        ")\n",
        "xml_path_2"
      ]
    },
    {
      "cell_type": "markdown",
      "metadata": {},
      "source": [
        "## Optional: XML wieder als DataFrame einlesen\n",
        "`pandas.read_xml` ist ab pandas 1.3 verfügbar. Je nach Struktur der XML kann `xpath` gesetzt werden.\n"
      ]
    },
    {
      "cell_type": "code",
      "execution_count": null,
      "metadata": {},
      "outputs": [],
      "source": [
        "try:\n",
        "    df_back = pd.read_xml(xml_path_1)\n",
        "    display(df_back.head())\n",
        "except Exception as e:\n",
        "    print(\"Hinweis: Konnte XML nicht direkt lesen:\", e)\n",
        "    print(\"Tipp: Mit 'xpath' und passenden Root-/Row-Namen erneut versuchen, z. B. xpath='.//item'\")"
      ]
    },
    {
      "cell_type": "markdown",
      "metadata": {},
      "source": [
        "## Zusammenfassung\n",
        "- **Schema:** `<prefix>[_<YYYYMMDD>_<hhmmss>][_<postfix>].xml`\n",
        "- **Rückgabe:** vollständiger Pfad der erzeugten Datei\n",
        "- **Robustheit:** automatischer eindeutiger Suffix bei `overwrite=False`\n",
        "- **Tipps:** `encoding='utf-8'`, sprechende `root_name`/`row_name` setzen\n"
      ]
    }
  ],
  "metadata": {
    "kernelspec": {
      "display_name": ".venv",
      "language": "python",
      "name": "python3"
    },
    "language_info": {
      "codemirror_mode": {
        "name": "ipython",
        "version": 3
      },
      "file_extension": ".py",
      "mimetype": "text/x-python",
      "name": "python",
      "nbconvert_exporter": "python",
      "pygments_lexer": "ipython3",
      "version": "3.11.9"
    }
  },
  "nbformat": 4,
  "nbformat_minor": 5
}
