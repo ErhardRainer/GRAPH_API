{
  "cells": [
    {
      "cell_type": "markdown",
      "metadata": {},
      "source": [
        "# SharePoint Columns – Arbeits‑Notebook (fokussiert)\n",
        "\n",
        "> Zweck: Dieses Notebook erklärt **nur** das Modul **`graphfw.domains.sharepoint.lists.columns`** (\n",
        "> Datei: `columns.py`), zeigt dessen wichtigste Methode & Parameter, demonstriert **Reloading via\n",
        "> `graphfw.core.reloader.reload_df`** (nach Dateiänderungen) und liefert ausführliche sowie kurze\n",
        "> Beispiel‑Snippets – inkl. gezielter **Spaltenauswahl** und **Filterung auf einen Content Type**.\n"
      ]
    },
    {
      "cell_type": "markdown",
      "metadata": {},
      "source": [
        "## 1) Modulübersicht & API (nur `columns.py`)\n",
        "\n",
        "**Modul**: `graphfw.domains.sharepoint.lists.columns` (Datei: `columns.py`)\n",
        "\n",
        "**Kernfunktion**\n",
        "\n",
        "```python\n",
        "list_df(gc, *, site_url, list_title, mode=\"standard|extended|item\", page_size=200, top=None, timeout=60, columns=None, expand=False, item_content_type=None, log=None) -> (pd.DataFrame, dict)\n",
        "```\n",
        "\n",
        "**Aufgabe**\n",
        "- Ermittelt das **Spaltenschema** einer SharePoint‑Liste über Microsoft Graph. Liefert einen DataFrame mit **deterministischer Spaltenreihenfolge** sowie ein `info`‑Dict (Diagnostics).\n",
        "\n",
        "**Wichtige Features**\n",
        "- **Modi**: `standard` (nur /columns), `extended` (Items + `$expand=fields`), `item` (pro Content Type ein Beispiel‑Item).\n",
        "- **GUID‑Sicherheit**: Spalte `GUID` wird sichergestellt (ggf. synthetisiert).\n",
        "- **Spaltenauswahl**: `columns=[...]` matcht `internalName` **oder** `displayName` (tolerant ggü. SharePoint‑Encodings `_xNNNN_`, Groß-/Kleinschreibung etc.).\n",
        "- **Diagnostics**: `info` enthält Quellen, Parameter, Warnungen, Auflösungsreport.\n",
        "\n",
        "**Rückgabe‑Schema**\n",
        "- `df`‑Spalten (fixe Reihenfolge, sofern nicht explizit gewählt): `['internalName','displayName','type','required','readOnly','hidden','indexed','enforceUnique','details','source','itemContentTypes']`\n",
        "- `info`: u. a. `{ 'mode', 'list_path', 'expand', 'params', 'sources', 'warnings', 'resolution', 'module_version' }`\n"
      ]
    },
    {
      "cell_type": "markdown",
      "metadata": {},
      "source": [
        "## 2) Reloading des Moduls (nur `columns.py`)\n",
        "\n",
        "**Wann verwenden?**\n",
        "- Immer dann, wenn Sie **Code in `columns.py` geändert** haben und das Notebook bereits läuft. Nutzen Sie dafür das **neue Hilfsmodul** `graphfw.core.reloader` und dessen Funktion **`reload_df([...])`**.\n",
        "\n",
        "**Was passiert?**\n",
        "- Es wird ein DataFrame mit den Spalten **Module | Version before | Version after** ausgegeben. Optional auch Dateipfade.\n"
      ]
    },
    {
      "cell_type": "code",
      "execution_count": null,
      "metadata": {},
      "outputs": [],
      "source": [
        "# Setup & Reload‑Utility (nur columns)\n",
        "import sys, os\n",
        "proj_root = os.path.abspath(os.path.join(os.getcwd()))\n",
        "if proj_root not in sys.path:\n",
        "    sys.path.insert(0, proj_root)\n",
        "\n",
        "from graphfw.core.reloader import reload_df\n",
        "\n",
        "modules_to_reload = [\n",
        "    \"graphfw.domains.sharepoint.lists.columns\",\n",
        "]\n",
        "\n",
        "reload_overview_df, reload_info = reload_df(modules_to_reload)\n",
        "reload_overview_df  # Anzeige: Module | Version before | Version after\n"
      ]
    },
    {
      "cell_type": "markdown",
      "metadata": {},
      "source": [
        "## 3) Beispiele & Erklärungen (ausführlich)\n",
        "\n",
        "> In allen Beispielen wird der **HTTP‑Zugriff ausschließlich über `GraphClient`** vorgenommen. Erstellen Sie ihn mit einem `TokenProvider`.\n"
      ]
    },
    {
      "cell_type": "code",
      "execution_count": null,
      "metadata": {},
      "outputs": [],
      "source": [
        "# Auth & Client – Platzhalter (mit echten Werten ersetzen)\n",
        "# from graphfw.core.auth import TokenProvider\n",
        "# from graphfw.core.http import GraphClient\n",
        "# tp = TokenProvider.from_json(\"./secrets/graph.json\")\n",
        "# gc = GraphClient(tp)\n",
        "gc = ...  # GraphClient Instanz einsetzen\n",
        "site_url = \"https://contoso.sharepoint.com/sites/TeamA\"\n",
        "list_title = \"Aufgaben\"\n"
      ]
    },
    {
      "cell_type": "markdown",
      "metadata": {},
      "source": [
        "### 3.1 Spaltenschema (alle Felder, Modus `item`)\n",
        "**Parameter**: `site_url`, `list_title`, `mode`, `columns`, `expand`, `item_content_type`, `page_size`, `top`, `timeout`.\n"
      ]
    },
    {
      "cell_type": "code",
      "execution_count": null,
      "metadata": {},
      "outputs": [],
      "source": [
        "from graphfw.domains.sharepoint.lists import columns\n",
        "\n",
        "# df, info = columns.list_df(\n",
        "#     gc,\n",
        "#     site_url=site_url,\n",
        "#     list_title=list_title,\n",
        "#     mode=\"item\",              # 'standard' | 'extended' | 'item'\n",
        "#     page_size=200,\n",
        "#     columns=None,              # alle\n",
        "#     expand=False,              # nur für mode='standard' relevant\n",
        "#     item_content_type=None,    # optional: ID oder Name\n",
        "# )\n",
        "# display(df.head())\n",
        "# info\n"
      ]
    },
    {
      "cell_type": "markdown",
      "metadata": {},
      "source": [
        "## 4) Kurzfassung (Minimal‑Snippets)\n"
      ]
    },
    {
      "cell_type": "code",
      "execution_count": null,
      "metadata": {},
      "outputs": [],
      "source": [
        "# Reload nur für columns\n",
        "from graphfw.core.reloader import reload_df\n",
        "reload_df([\"graphfw.domains.sharepoint.lists.columns\"])\n"
      ]
    },
    {
      "cell_type": "code",
      "execution_count": null,
      "metadata": {},
      "outputs": [],
      "source": [
        "# Minimal – alle Spalten\n",
        "# from graphfw.domains.sharepoint.lists import columns\n",
        "# df, info = columns.list_df(gc, site_url=site_url, list_title=list_title)\n"
      ]
    },
    {
      "cell_type": "markdown",
      "metadata": {},
      "source": [
        "## 5) Explizit bestimmte Spalten anfordern\n",
        "**Ziel**: Nur die gewünschten Spalten (in genau der gewünschten Reihenfolge) zurückgeben.\n"
      ]
    },
    {
      "cell_type": "code",
      "execution_count": null,
      "metadata": {},
      "outputs": [],
      "source": [
        "# Gewünschte Spalten definieren\n",
        "wanted = [\"Title\", \"GUID\", \"Created\", \"Modified\", \"Status\"]\n",
        "\n",
        "# df_sel, info_sel = columns.list_df(\n",
        "#     gc,\n",
        "#     site_url=site_url,\n",
        "#     list_title=list_title,\n",
        "#     mode=\"extended\",      # oder 'standard'/'item'\n",
        "#     columns=wanted,\n",
        "# )\n",
        "# display(df_sel)\n",
        "# info_sel.get(\"warnings\")  # z. B. nicht gefundene Spalten\n"
      ]
    },
    {
      "cell_type": "markdown",
      "metadata": {},
      "source": [
        "## 6) Filterung auf einen bestimmten Content Type\n",
        "**Ziel**: Spaltenerkennung und Beispiel‑Item nur für **einen** Content Type durchführen.\n"
      ]
    },
    {
      "cell_type": "code",
      "execution_count": null,
      "metadata": {},
      "outputs": [],
      "source": [
        "# Nur CT \"Dokument\" berücksichtigen (oder CT-ID wie '0x0101...')\n",
        "# df_ct, info_ct = columns.list_df(\n",
        "#     gc,\n",
        "#     site_url=site_url,\n",
        "#     list_title=list_title,\n",
        "#     mode=\"item\",\n",
        "#     item_content_type=\"Dokument\",\n",
        "# )\n",
        "# display(df_ct.head())\n",
        "# info_ct.get(\"warnings\")\n"
      ]
    },
    {
      "cell_type": "markdown",
      "metadata": {},
      "source": [
        "## 7) Aktuelle Modulversion anzeigen & nach Änderungen neu laden (nur columns)\n"
      ]
    },
    {
      "cell_type": "code",
      "execution_count": null,
      "metadata": {},
      "outputs": [],
      "source": [
        "# Versionen zeigen & neu laden\n",
        "reload_overview_df, reload_info = reload_df([\"graphfw.domains.sharepoint.lists.columns\"])\n",
        "reload_overview_df\n"
      ]
    },
    {
      "cell_type": "markdown",
      "metadata": {},
      "source": [
        "## 8) Troubleshooting & Hinweise\n",
        "- **Import‑Fehler**: Projekt‑Root dem `sys.path` hinzufügen; Paketstruktur `graphfw/...` prüfen.\n",
        "- **Berechtigungen**: Für echte Graph‑Calls benötigt Ihre App passende Scopes (Application/Delegated).\n",
        "- **Keine Secrets loggen**: `TokenProvider`/Konfiguration dürfen keine Secrets ausgeben.\n",
        "- **Deterministische Spalten**: Bei `columns=[...]` folgt die Reihenfolge genau Ihrer Liste; fehlende Spalten in `info['warnings']`.\n"
      ]
    }
  ],
  "metadata": {
    "kernelspec": {
      "display_name": "Python 3",
      "language": "python",
      "name": "python3"
    },
    "language_info": {
      "name": "python",
      "pygments_lexer": "ipython3"
    }
  },
  "nbformat": 4,
  "nbformat_minor": 5
}
