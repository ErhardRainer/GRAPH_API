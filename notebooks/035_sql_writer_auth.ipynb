{
  "cells": [
    {
      "cell_type": "markdown",
      "id": "7e520997",
      "metadata": {},
      "source": [
        "# SQL Server Auth – Komplettbeispiele (7 Methoden)\n",
        "\n",
        "Dieses Notebook zeigt **alle unterstützten Authentifizierungsarten** des Microsoft ODBC Drivers mit unserer `build_engine(...)`/`load_sql_settings(...)`-API.\n",
        "\n",
        "**Voraussetzungen**\n",
        "- Treiber: *ODBC Driver 17 oder 18 for SQL Server* auf dem System installiert\n",
        "- Python-Pakete: `sqlalchemy`, `pyodbc`, `pandas`\n",
        "- Repo-Pfad in `sys.path` (eine Ebene hoch)\n",
        "- Eine `config.json` mit passenden Knoten (je Methode ein eigener Knoten)\n",
        "\n",
        "Die 7 Methoden (jeweils **eigener Knoten**):\n",
        "1. `connections.sql_basic` – SQL Server Authentication (User/Pass)\n",
        "2. `connections.sql_trusted` – Windows Integrated / Trusted Connection\n",
        "3. `connections.sql_aad_password` – Azure AD Password (`ActiveDirectoryPassword`)\n",
        "4. `connections.sql_aad_integrated` – Azure AD Integrated (`ActiveDirectoryIntegrated`)\n",
        "5. `connections.sql_aad_interactive` – Azure AD Interactive (`ActiveDirectoryInteractive`)\n",
        "6. `connections.sql_aad_msi` – Azure AD Managed Identity (`ActiveDirectoryMsi`)\n",
        "7. `connections.sql_aad_sp` – Azure AD Service Principal (`ActiveDirectoryServicePrincipal`)\n"
      ]
    },
    {
      "cell_type": "code",
      "execution_count": null,
      "id": "0fbf9c23",
      "metadata": {
        "execution": {
          "iopub.execute_input": "2023-10-14T00:00:00.000000Z",
          "iopub.status.busy": "2023-10-14T00:00:00.000000Z",
          "iopub.status.idle": "2023-10-14T00:00:01.000000Z",
          "shell.execute_reply": "2023-10-14T00:00:01.000000Z"
        }
      },
      "outputs": [],
      "source": [
        "from pathlib import Path\n",
        "import sys, importlib\n",
        "sys.path.insert(0, \"..\")  # Repo-Root\n",
        "\n",
        "import graphfw as graphfw, graphfw.core, graphfw.core.config as cfg\n",
        "importlib.invalidate_caches()\n",
        "_ = importlib.reload(graphfw)\n",
        "_ = importlib.reload(graphfw.core)\n",
        "cfg = importlib.reload(cfg)\n",
        "\n",
        "from graphfw.core.config import load_sql_settings  # <- sollte jetzt klappen\n"
      ]
    },
    {
      "cell_type": "markdown",
      "id": "ff64146c",
      "metadata": {},
      "source": [
        "## Hilfsfunktionen"
      ]
    },
    {
      "cell_type": "code",
      "execution_count": 7,
      "id": "0d5f4193",
      "metadata": {},
      "outputs": [],
      "source": [
        "def quick_check(engine):\n",
        "    \"\"\"Führt SELECT 1 aus und gibt das Ergebnis zurück.\"\"\"\n",
        "    with engine.connect() as c:\n",
        "        return c.execute(text(\"SELECT 1\")).scalar()\n",
        "\n",
        "\n",
        "def show_settings(settings):\n",
        "    d = settings.as_dict(mask_secrets=True)\n",
        "    print({k: d[k] for k in (\"server\",\"db_name\",\"username\",\"driver\",\"params\") if k in d})\n",
        "\n",
        "def connect_and_check(node: str, *, show_drivers: bool = True, show_dsns: bool = True):\n",
        "    print(f\"\\n=== Node: {node} ===\")\n",
        "    if show_drivers:\n",
        "        print(\"ODBC-Treiber (SQL Server):\", list_odbc_drivers())\n",
        "    if show_dsns:\n",
        "        print(\"ODBC-DSNs:\", list_odbc_data_sources())\n",
        "\n",
        "    settings, info = load_sql_settings(config_path=CONFIG_PATH, node=node, env_override=True)\n",
        "    print(\"Quelle:\", info.get(\"source\"), \"| Node:\", info.get(\"node_path\"))\n",
        "    print(\"Settings:\", settings.as_dict(mask_secrets=True))\n",
        "\n",
        "    ok, diag = diagnose_with_fallbacks(settings)\n",
        "    print(diag[\"summary\"])\n",
        "    for i, att in enumerate(diag[\"attempts\"], 1):\n",
        "        status = \"OK\" if att.get(\"ok\", False) else (\"OK\" if att.get(\"method\",\"\").startswith((\"pyodbc\",\"ado\",\"pymssql\")) and \"error\" not in att else \"ERR\")\n",
        "        # kompaktes Protokoll\n",
        "        print(f\"  [{i:02d}] {att.get('method','?'):<18} | driver={att.get('driver') or att.get('provider')} \"\n",
        "              f\"| params={att.get('params') or ''} | {att.get('duration_s','-')}s\")\n",
        "        if \"error\" in att and att[\"error\"]:\n",
        "            print(\"       \", att[\"error\"])\n",
        "    if diag.get(\"suggestions\"):\n",
        "        print(\"\\nHinweise:\")\n",
        "        for s in diag[\"suggestions\"]:\n",
        "            print(\" -\", s)\n",
        "    return ok, diag\n"
      ]
    },
    {
      "cell_type": "markdown",
      "id": "ccf790ca",
      "metadata": {},
      "source": [
        "## (Optional) Beispiel-Knoten anlegen\n",
        "\n",
        "Falls deine `config.json` die Knoten noch **nicht** enthält, kannst du mit\n",
        "`save_sql_settings(...)` Platzhalter anlegen. **Achtung:**\n",
        "`WRITE_SKELETON=True` überschreibt vorhandene Knoten **nicht**, sondern ergänzt\n",
        "nur fehlende Keys (siehe `overwrite=False`). Passe Werte manuell an."
      ]
    },
    {
      "cell_type": "code",
      "execution_count": 11,
      "id": "29c1447e",
      "metadata": {},
      "outputs": [
        {
          "name": "stdout",
          "output_type": "stream",
          "text": [
            "connections.sql_basic -> True ok\n",
            "connections.sql_trusted -> True ok\n",
            "connections.sql_aad_password -> True ok\n",
            "connections.sql_aad_integrated -> True ok\n",
            "connections.sql_aad_interactive -> True ok\n",
            "connections.sql_aad_msi -> True ok\n",
            "connections.sql_aad_sp -> True ok\n"
          ]
        }
      ],
      "source": [
        "CONFIG_PATH = r\"C:\\python\\Scripts\\config_sql.json\"\n",
        "WRITE_SKELETON = True  # auf True setzen, um Platzhalter anzulegen\n",
        "\n",
        "if WRITE_SKELETON:\n",
        "    examples = {\n",
        "        \"connections.sql_basic\": {\n",
        "            \"server\": \"myserver.domain.tld\",\n",
        "            \"db_name\": \"BI_RAW\",\n",
        "            \"username\": \"svc_user\",\n",
        "            \"password\": \"CHANGE_ME\",\n",
        "            \"driver\": \"ODBC Driver 18 for SQL Server\",\n",
        "            \"auth\": \"sql\",\n",
        "            \"params\": {\"TrustServerCertificate\": \"yes\"}\n",
        "        },\n",
        "        \"connections.sql_trusted\": {\n",
        "            \"server\": \"myserver\\\\sql2019\",\n",
        "            \"db_name\": \"BI_RAW\",\n",
        "            \"driver\": \"ODBC Driver 18 for SQL Server\",\n",
        "            \"auth\": \"trusted\",\n",
        "            \"params\": {\"TrustServerCertificate\": \"yes\"}\n",
        "        },\n",
        "        \"connections.sql_aad_password\": {\n",
        "            \"server\": \"myserver.database.windows.net\",\n",
        "            \"db_name\": \"BI_RAW\",\n",
        "            \"username\": \"user@contoso.com\",\n",
        "            \"password\": \"CHANGE_ME\",\n",
        "            \"driver\": \"ODBC Driver 18 for SQL Server\",\n",
        "            \"auth\": \"aad-password\",\n",
        "            \"params\": {\"Encrypt\": \"yes\"}\n",
        "        },\n",
        "        \"connections.sql_aad_integrated\": {\n",
        "            \"server\": \"myserver.database.windows.net\",\n",
        "            \"db_name\": \"BI_RAW\",\n",
        "            \"driver\": \"ODBC Driver 18 for SQL Server\",\n",
        "            \"auth\": \"aad-integrated\"\n",
        "        },\n",
        "        \"connections.sql_aad_interactive\": {\n",
        "            \"server\": \"myserver.database.windows.net\",\n",
        "            \"db_name\": \"BI_RAW\",\n",
        "            \"driver\": \"ODBC Driver 18 for SQL Server\",\n",
        "            \"auth\": \"aad-interactive\"\n",
        "        },\n",
        "        \"connections.sql_aad_msi\": {\n",
        "            \"server\": \"myserver.database.windows.net\",\n",
        "            \"db_name\": \"BI_RAW\",\n",
        "            \"driver\": \"ODBC Driver 18 for SQL Server\",\n",
        "            \"auth\": \"aad-msi\"\n",
        "            # Optional (user-assigned MI): \"params\": {\"ClientId\": \"<GUID>\"}\n",
        "        },\n",
        "        \"connections.sql_aad_sp\": {\n",
        "            \"server\": \"myserver.database.windows.net\",\n",
        "            \"db_name\": \"BI_RAW\",\n",
        "            \"username\": \"00000000-0000-0000-0000-000000000000\",  # App (Client) ID\n",
        "            \"password\": \"CHANGE_ME_SECRET\",\n",
        "            \"driver\": \"ODBC Driver 18 for SQL Server\",\n",
        "            \"auth\": \"aad-sp\"\n",
        "        }\n",
        "    }\n",
        "\n",
        "    for node, payload in examples.items():\n",
        "        ok, sinfo = save_sql_settings(\n",
        "            config_path=CONFIG_PATH,\n",
        "            node=node,\n",
        "            settings=payload,\n",
        "            overwrite=False  # fehlende Keys ergänzen, bestehende nicht überschreiben\n",
        "        )\n",
        "        print(node, \"->\", ok, sinfo.get(\"error\", \"ok\"))\n",
        "else:\n",
        "    print(\"Skelett-Anlage übersprungen (WRITE_SKELETON=False)\")"
      ]
    },
    {
      "cell_type": "markdown",
      "id": "7aba393b",
      "metadata": {},
      "source": [
        "## 1) SQL Server Authentication (Benutzer/Pass) — `connections.sql_basic`"
      ]
    },
    {
      "cell_type": "code",
      "execution_count": 8,
      "id": "01be9b0c",
      "metadata": {},
      "outputs": [
        {
          "name": "stdout",
          "output_type": "stream",
          "text": [
            "\n",
            "=== Node: connections.sql_basic ===\n"
          ]
        },
        {
          "ename": "NameError",
          "evalue": "name 'list_odbc_drivers' is not defined",
          "output_type": "error",
          "traceback": [
            "\u001b[31m---------------------------------------------------------------------------\u001b[39m",
            "\u001b[31mNameError\u001b[39m                                 Traceback (most recent call last)",
            "\u001b[36mCell\u001b[39m\u001b[36m \u001b[39m\u001b[32mIn[8]\u001b[39m\u001b[32m, line 1\u001b[39m\n\u001b[32m----> \u001b[39m\u001b[32m1\u001b[39m \u001b[43mconnect_and_check\u001b[49m\u001b[43m(\u001b[49m\u001b[33;43m\"\u001b[39;49m\u001b[33;43mconnections.sql_basic\u001b[39;49m\u001b[33;43m\"\u001b[39;49m\u001b[43m)\u001b[49m\n",
            "\u001b[36mCell\u001b[39m\u001b[36m \u001b[39m\u001b[32mIn[7]\u001b[39m\u001b[32m, line 14\u001b[39m, in \u001b[36mconnect_and_check\u001b[39m\u001b[34m(node, show_drivers, show_dsns)\u001b[39m\n\u001b[32m     12\u001b[39m \u001b[38;5;28mprint\u001b[39m(\u001b[33mf\u001b[39m\u001b[33m\"\u001b[39m\u001b[38;5;130;01m\\n\u001b[39;00m\u001b[33m=== Node: \u001b[39m\u001b[38;5;132;01m{\u001b[39;00mnode\u001b[38;5;132;01m}\u001b[39;00m\u001b[33m ===\u001b[39m\u001b[33m\"\u001b[39m)\n\u001b[32m     13\u001b[39m \u001b[38;5;28;01mif\u001b[39;00m show_drivers:\n\u001b[32m---> \u001b[39m\u001b[32m14\u001b[39m     \u001b[38;5;28mprint\u001b[39m(\u001b[33m\"\u001b[39m\u001b[33mODBC-Treiber (SQL Server):\u001b[39m\u001b[33m\"\u001b[39m, \u001b[43mlist_odbc_drivers\u001b[49m())\n\u001b[32m     15\u001b[39m \u001b[38;5;28;01mif\u001b[39;00m show_dsns:\n\u001b[32m     16\u001b[39m     \u001b[38;5;28mprint\u001b[39m(\u001b[33m\"\u001b[39m\u001b[33mODBC-DSNs:\u001b[39m\u001b[33m\"\u001b[39m, list_odbc_data_sources())\n",
            "\u001b[31mNameError\u001b[39m: name 'list_odbc_drivers' is not defined"
          ]
        }
      ],
      "source": [
        "connect_and_check(\"connections.sql_basic\")"
      ]
    },
    {
      "cell_type": "code",
      "execution_count": 30,
      "id": "6f394442",
      "metadata": {},
      "outputs": [
        {
          "ename": "ImportError",
          "evalue": "cannot import name 'load_sql_settings' from 'graphfw.core.config' (unknown location)",
          "output_type": "error",
          "traceback": [
            "\u001b[31m---------------------------------------------------------------------------\u001b[39m",
            "\u001b[31mImportError\u001b[39m                               Traceback (most recent call last)",
            "\u001b[36mCell\u001b[39m\u001b[36m \u001b[39m\u001b[32mIn[30]\u001b[39m\u001b[32m, line 6\u001b[39m\n\u001b[32m      3\u001b[39m sys.path.insert(\u001b[32m0\u001b[39m, \u001b[33m\"\u001b[39m\u001b[33m..\u001b[39m\u001b[33m\"\u001b[39m)  \u001b[38;5;66;03m# Repo-Root (Ordner, der 'graphfw/' enthält)\u001b[39;00m\n\u001b[32m      5\u001b[39m \u001b[38;5;28;01mfrom\u001b[39;00m\u001b[38;5;250m \u001b[39m\u001b[34;01msqlalchemy\u001b[39;00m\u001b[38;5;250m \u001b[39m\u001b[38;5;28;01mimport\u001b[39;00m text\n\u001b[32m----> \u001b[39m\u001b[32m6\u001b[39m \u001b[38;5;28;01mfrom\u001b[39;00m\u001b[38;5;250m \u001b[39m\u001b[34;01mgraphfw\u001b[39;00m\u001b[34;01m.\u001b[39;00m\u001b[34;01mcore\u001b[39;00m\u001b[34;01m.\u001b[39;00m\u001b[34;01mconfig\u001b[39;00m\u001b[38;5;250m \u001b[39m\u001b[38;5;28;01mimport\u001b[39;00m load_sql_settings\n\u001b[32m      7\u001b[39m \u001b[38;5;28;01mfrom\u001b[39;00m\u001b[38;5;250m \u001b[39m\u001b[34;01mgraphfw\u001b[39;00m\u001b[34;01m.\u001b[39;00m\u001b[34;01mio\u001b[39;00m\u001b[34;01m.\u001b[39;00m\u001b[34;01mwriters\u001b[39;00m\u001b[34;01m.\u001b[39;00m\u001b[34;01msql_writer\u001b[39;00m\u001b[38;5;250m \u001b[39m\u001b[38;5;28;01mimport\u001b[39;00m build_engine  \u001b[38;5;66;03m# dein sql_writer.py\u001b[39;00m\n\u001b[32m      9\u001b[39m CONFIG_PATH = Path(\u001b[33m\"\u001b[39m\u001b[33mconfig.json\u001b[39m\u001b[33m\"\u001b[39m)\n",
            "\u001b[31mImportError\u001b[39m: cannot import name 'load_sql_settings' from 'graphfw.core.config' (unknown location)"
          ]
        }
      ],
      "source": [
        "from pathlib import Path\n",
        "import sys\n",
        "sys.path.insert(0, \"..\")  # Repo-Root (Ordner, der 'graphfw/' enthält)\n",
        "\n",
        "from sqlalchemy import text\n",
        "from graphfw.core.config import load_sql_settings\n",
        "from graphfw.io.writers.sql_writer import build_engine  # dein sql_writer.py\n",
        "\n",
        "CONFIG_PATH = Path(\"config.json\")\n",
        "settings, info = load_sql_settings(config_path=CONFIG_PATH, node=\"connections.sql_basic\")\n",
        "cfg, db, user, pwd = settings.to_engine_args()\n",
        "\n",
        "engine = build_engine(cfg, db_name=db, username=user, password=pwd)\n",
        "with engine.connect() as c:\n",
        "    print(\"SELECT 1 ->\", c.execute(text(\"SELECT 1\")).scalar())\n"
      ]
    },
    {
      "cell_type": "markdown",
      "id": "8f309c06",
      "metadata": {},
      "source": [
        "## 2) Windows Integrated / Trusted Connection — `connections.sql_trusted`"
      ]
    },
    {
      "cell_type": "code",
      "execution_count": null,
      "id": "5b7d032f",
      "metadata": {},
      "outputs": [],
      "source": [
        "connect_and_check(\"connections.sql_trusted\")  # läuft unter Identität des Prozesses"
      ]
    },
    {
      "cell_type": "markdown",
      "id": "70ac3f52",
      "metadata": {},
      "source": [
        "## 3) Azure AD Password — `connections.sql_aad_password`"
      ]
    },
    {
      "cell_type": "code",
      "execution_count": null,
      "id": "7f9a0a50",
      "metadata": {},
      "outputs": [],
      "source": [
        "connect_and_check(\"connections.sql_aad_password\")"
      ]
    },
    {
      "cell_type": "markdown",
      "id": "a071244b",
      "metadata": {},
      "source": [
        "## 4) Azure AD Integrated — `connections.sql_aad_integrated`"
      ]
    },
    {
      "cell_type": "code",
      "execution_count": null,
      "id": "3e3e37f8",
      "metadata": {},
      "outputs": [],
      "source": [
        "connect_and_check(\"connections.sql_aad_integrated\")  # SSO; funktioniert nur, wenn Client/Session dafür geeignet ist"
      ]
    },
    {
      "cell_type": "markdown",
      "id": "129f8e67",
      "metadata": {},
      "source": [
        "## 5) Azure AD Interactive — `connections.sql_aad_interactive`"
      ]
    },
    {
      "cell_type": "code",
      "execution_count": null,
      "id": "3f045a60",
      "metadata": {},
      "outputs": [],
      "source": [
        "RUN_INTERACTIVE = False  # auf True setzen, wenn ein UI-Login möglich ist\n",
        "if RUN_INTERACTIVE:\n",
        "    connect_and_check(\"connections.sql_aad_interactive\")\n",
        "else:\n",
        "    print(\"Übersprungen (RUN_INTERACTIVE=False)\")"
      ]
    },
    {
      "cell_type": "markdown",
      "id": "514c3a80",
      "metadata": {},
      "source": [
        "## 6) Azure AD Managed Identity — `connections.sql_aad_msi`"
      ]
    },
    {
      "cell_type": "code",
      "execution_count": null,
      "id": "cf6b4500",
      "metadata": {},
      "outputs": [],
      "source": [
        "RUN_MSI = False  # auf True setzen, wenn auf Azure-Host mit MI ausgeführt\n",
        "if RUN_MSI:\n",
        "    connect_and_check(\"connections.sql_aad_msi\")\n",
        "else:\n",
        "    print(\"Übersprungen (RUN_MSI=False)\")"
      ]
    },
    {
      "cell_type": "markdown",
      "id": "b1f149be",
      "metadata": {},
      "source": [
        "## 7) Azure AD Service Principal (Client Secret) — `connections.sql_aad_sp`"
      ]
    },
    {
      "cell_type": "code",
      "execution_count": null,
      "id": "d5879cf1",
      "metadata": {},
      "outputs": [],
      "source": [
        "connect_and_check(\"connections.sql_aad_sp\")"
      ]
    },
    {
      "cell_type": "markdown",
      "id": "2ca12a4e",
      "metadata": {},
      "source": [
        "### Hinweis zu Treiber & Verschlüsselung\n",
        "- Bei **ODBC Driver 18** ist `Encrypt=yes` Standard. In Testumgebungen hilft oft `TrustServerCertificate=yes` zusätzlich (per `params`).\n",
        "- Die `auth`-Shorthands in der `config.json` setzen die nötigen ODBC-Parameter automatisch (siehe `graphfw.core.config.sql_config`)."
      ]
    }
  ],
  "metadata": {
    "kernelspec": {
      "display_name": ".venv",
      "language": "python",
      "name": "python3"
    },
    "language_info": {
      "codemirror_mode": {
        "name": "ipython",
        "version": 3
      },
      "file_extension": ".py",
      "mimetype": "text/x-python",
      "name": "python",
      "nbconvert_exporter": "python",
      "pygments_lexer": "ipython3",
      "version": "3.11.9"
    }
  },
  "nbformat": 4,
  "nbformat_minor": 5
}
