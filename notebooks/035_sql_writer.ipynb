{
 "cells": [
  {
   "cell_type": "markdown",
   "id": "a0250205",
   "metadata": {},
   "source": [
    "# Test: graphfw.io.writers.sql_writer.write_sql\n",
    "\n",
    "Dieses Notebook demonstriert die wichtigsten Optionen:\n",
    "\n",
    "1. **recreate = True** – Tabelle droppen und aus DF neu anlegen\n",
    "2. **alignColumns** (inkl. Aliase) – (N)VARCHAR-Spalten verbreitern, wenn DF längere Strings enthält\n",
    "3. **addcolumns** – neue DF-Spalten via `evolve_on_new_columns=True` hinzufügen\n",
    "4. **Append** – Daten **anhängen** statt löschen (`truncate=False`)\n",
    "5. **Truncate** – Tabelle leeren vor Insert (`truncate=True`)\n",
    "\n",
    "⚠️ Erfordert erreichbaren SQL Server & gültige Zugangsdaten.\n",
    "Die Beispiele verwenden bewusst eine temporäre Testtabelle."
   ]
  },
  {
   "cell_type": "code",
   "execution_count": null,
   "id": "02a9af87",
   "metadata": {},
   "outputs": [],
   "source": [
    "from datetime import datetime\n",
    "import os\n",
    "import pandas as pd\n",
    "from sqlalchemy import text\n",
    "from graphfw.io.writers.sql_writer import build_engine, write_sql\n",
    "\n",
    "# ---- Verbindung konfigurieren ----\n",
    "SERVER = os.getenv(\"SQL_SERVER\", \"localhost\")\n",
    "DB_NAME = os.getenv(\"SQL_DB\", \"BI_RAW\")\n",
    "USER = os.getenv(\"SQL_USER\")\n",
    "PWD = os.getenv(\"SQL_PWD\")\n",
    "\n",
    "engine = build_engine({\n",
    "    \"server\": SERVER,\n",
    "    \"driver\": \"ODBC Driver 17 for SQL Server\",\n",
    "    \"params\": \"TrustServerCertificate=yes\"\n",
    "}, db_name=DB_NAME, username=USER, password=PWD)\n",
    "\n",
    "SCHEMA = os.getenv(\"SQL_SCHEMA\", \"stg\")\n",
    "TABLE = f\"Test_SP_{datetime.now().strftime('%Y%m%d_%H%M%S')}\"  # eindeutiger Tabellenname\n",
    "TABLE"
   ]
  },
  {
   "cell_type": "markdown",
   "id": "29044073",
   "metadata": {},
   "source": [
    "## 1) Recreate = True\n",
    "Dropt die Tabelle (falls vorhanden) und legt sie neu an."
   ]
  },
  {
   "cell_type": "code",
   "execution_count": null,
   "id": "02a21ec7",
   "metadata": {},
   "outputs": [],
   "source": [
    "df1 = pd.DataFrame({\n",
    "    \"Id\": [1, 2, 3],\n",
    "    \"Name\": [\"A\", \"B\", \"C\"]\n",
    "})\n",
    "ok, info = write_sql(\n",
    "    df1,\n",
    "    engine=engine,\n",
    "    schema=SCHEMA,\n",
    "    table=TABLE,\n",
    "    truncate=False,          # bei recreate nicht nötig\n",
    "    recreate=True,           # <---\n",
    ")\n",
    "print(\"OK:\", ok)\n",
    "info"
   ]
  },
  {
   "cell_type": "markdown",
   "id": "e9afea5a",
   "metadata": {},
   "source": [
    "## 2) Align Columns (Längen an DF anpassen)\n",
    "\n",
    "Um das zu demonstrieren, erzeugen wir **manuell** eine Spalte `ShortText VARCHAR(10)` und versuchen anschließend, längere Werte einzufügen.\n",
    "\n",
    "Hinweis: Die Funktion akzeptiert mehrere Schreibweisen:\n",
    "- `align_columns=True` (empfohlen)\n",
    "- `alignColumn=True` (Alias)\n",
    "- `alighnColumn=True` (vorheriger Tippfehler-Alias)\n",
    "\n",
    "Der vom Nutzer erwähnte Schreibfehler `alithnColum` **wird ignoriert** und hat keine Wirkung – daher zeigen wir beide Fälle."
   ]
  },
  {
   "cell_type": "code",
   "execution_count": null,
   "id": "d9602ca9",
   "metadata": {},
   "outputs": [],
   "source": [
    "with engine.begin() as conn:\n",
    "    conn.execute(text(f\"\"\"\n",
    "        IF COL_LENGTH('{SCHEMA}.{TABLE}', 'ShortText') IS NULL\n",
    "            ALTER TABLE [{SCHEMA}].[{TABLE}] ADD [ShortText] VARCHAR(10) NULL;\n",
    "    \"\"\"))\n",
    "\n",
    "df2 = pd.DataFrame({\n",
    "    \"Id\": [4, 5],\n",
    "    \"Name\": [\"LongName_XXXXXXXXXXXXXXXXXXXX\", \"Y\"],\n",
    "    \"ShortText\": [\"12345678901\", \"abcdefghijk\"]  # 11 Zeichen > 10\n",
    "})\n",
    "\n",
    "# (a) Mit falschem Key (hat KEINE Wirkung)\n",
    "ok_wrong, info_wrong = write_sql(\n",
    "    df2,\n",
    "    engine=engine,\n",
    "    schema=SCHEMA,\n",
    "    table=TABLE,\n",
    "    truncate=False,\n",
    "    **{\"alithnColum\": True}   # ignoriert\n",
    ")\n",
    "print(\"OK (falscher Key):\", ok_wrong)\n",
    "info_wrong.get(\"columns_altered\"), info_wrong.get(\"warnings\")\n"
   ]
  },
  {
   "cell_type": "code",
   "execution_count": null,
   "id": "ba4d4191",
   "metadata": {},
   "outputs": [],
   "source": [
    "# (b) Mit korrektem Alias -> Spalte wird verbreitert (ALTER COLUMN)\n",
    "ok_align, info_align = write_sql(\n",
    "    df2,\n",
    "    engine=engine,\n",
    "    schema=SCHEMA,\n",
    "    table=TABLE,\n",
    "    truncate=False,\n",
    "    alignColumn=True  # Alias für align_columns\n",
    ")\n",
    "print(\"OK (align):\", ok_align)\n",
    "info_align.get(\"columns_altered\")"
   ]
  },
  {
   "cell_type": "markdown",
   "id": "263247b6",
   "metadata": {},
   "source": [
    "## 3) Add Columns (neue DF-Spalten automatisch hinzufügen)\n",
    "\n",
    "Aktiviert mit `evolve_on_new_columns=True`."
   ]
  },
  {
   "cell_type": "code",
   "execution_count": null,
   "id": "6c1d0a2e",
   "metadata": {},
   "outputs": [],
   "source": [
    "df3 = pd.DataFrame({\n",
    "    \"Id\": [6],\n",
    "    \"Name\": [\"Added\"],\n",
    "    \"NewCol\": [\"neu\"]   # neue Spalte\n",
    "})\n",
    "ok_add, info_add = write_sql(\n",
    "    df3,\n",
    "    engine=engine,\n",
    "    schema=SCHEMA,\n",
    "    table=TABLE,\n",
    "    truncate=False,\n",
    "    evolve_on_new_columns=True\n",
    ")\n",
    "print(\"OK (add columns):\", ok_add)\n",
    "info_add.get(\"columns_added\")"
   ]
  },
  {
   "cell_type": "markdown",
   "id": "bc4b5476",
   "metadata": {},
   "source": [
    "## 4) Append (Daten anhängen)\n",
    "Mit `truncate=False` werden Daten nicht gelöscht, sondern angefügt."
   ]
  },
  {
   "cell_type": "code",
   "execution_count": null,
   "id": "7a8455c6",
   "metadata": {},
   "outputs": [],
   "source": [
    "df_append = pd.DataFrame({\n",
    "    \"Id\": [7, 8],\n",
    "    \"Name\": [\"Append1\", \"Append2\"]\n",
    "})\n",
    "ok_app, info_app = write_sql(\n",
    "    df_append,\n",
    "    engine=engine,\n",
    "    schema=SCHEMA,\n",
    "    table=TABLE,\n",
    "    truncate=False\n",
    ")\n",
    "print(\"OK (append):\", ok_app)\n",
    "info_app[\"rowcount\"]"
   ]
  },
  {
   "cell_type": "markdown",
   "id": "e9625adc",
   "metadata": {},
   "source": [
    "## 5) Truncate (Tabelle leeren)\n",
    "Mit `truncate=True` wird vor dem Insert ein `TRUNCATE TABLE` ausgeführt."
   ]
  },
  {
   "cell_type": "code",
   "execution_count": null,
   "id": "30e28ec6",
   "metadata": {},
   "outputs": [],
   "source": [
    "df_trunc = pd.DataFrame({\n",
    "    \"Id\": [100],\n",
    "    \"Name\": [\"AfterTruncate\"]\n",
    "})\n",
    "ok_tr, info_tr = write_sql(\n",
    "    df_trunc,\n",
    "    engine=engine,\n",
    "    schema=SCHEMA,\n",
    "    table=TABLE,\n",
    "    truncate=True\n",
    ")\n",
    "print(\"OK (truncate):\", ok_tr)\n",
    "info_tr[\"sql\"], info_tr[\"rowcount\"]"
   ]
  },
  {
   "cell_type": "markdown",
   "id": "dc6e5988",
   "metadata": {},
   "source": [
    "### Kontrolle: Rows zählen"
   ]
  },
  {
   "cell_type": "code",
   "execution_count": null,
   "id": "6c6ceaaa",
   "metadata": {},
   "outputs": [],
   "source": [
    "with engine.connect() as conn:\n",
    "    cnt = conn.execute(text(f\"SELECT COUNT(*) FROM [{SCHEMA}].[{TABLE}]\"))\n",
    "    print(\"Rows in Tabelle:\", list(cnt)[0][0])"
   ]
  }
 ],
 "metadata": {
  "kernelspec": {
   "display_name": "Python 3",
   "language": "python",
   "name": "python3"
  },
  "language_info": {
   "name": "python",
   "version": "3.11"
  }
 },
 "nbformat": 4,
 "nbformat_minor": 5
}
