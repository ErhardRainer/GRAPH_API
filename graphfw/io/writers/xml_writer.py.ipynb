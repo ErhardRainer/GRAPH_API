{
  "cells": [
    {
      "cell_type": "markdown",
      "metadata": {},
      "source": [
        "# XML Writer – Demo\n",
        "\n",
        "Dieses Notebook zeigt die Verwendung von `graphfw.io.writers.xml_writer` mit dem Namensschema:\n",
        "\n",
        "`<prefix>[_<YYYYMMDD>_<hhmmss>][_<postfix>].xml`\n",
        "\n",
        "**Ziele:**\n",
        "- DataFrame erstellen\n",
        "- XML-Dateipfad vorschauen (`build_xml_path`)\n",
        "- XML exportieren (`write_xml`)\n",
        "- Ergebnis prüfen und optional wieder einlesen (`pandas.read_xml`)\n"
      ]
    },
    {
      "cell_type": "code",
      "execution_count": null,
      "metadata": {
        "collapsed": false
      },
      "outputs": [],
      "source": [
        "# Imports & Setup\n",
        "from pathlib import Path\n",
        "import pandas as pd\n",
        "from graphfw.io.writers.xml_writer import build_xml_path, write_xml\n",
        "\n",
        "pd.__version__"
      ]
    },
    {
      "cell_type": "markdown",
      "metadata": {},
      "source": [
        "## Beispiel-Daten vorbereiten"
      ]
    },
    {
      "cell_type": "code",
      "execution_count": null,
      "metadata": {},
      "outputs": [],
      "source": [
        "df = pd.DataFrame(\n",
        "    {\n",
        "        \"Id\": [1001, 1002, 1003],\n",
        "        \"Title\": [\"Alpha\", \"Beta\", \"Gamma\"],\n",
        "        \"Amount\": [199.90, 49.00, 325.50],\n",
        "        \"Created\": pd.to_datetime([\"2025-09-12\", \"2025-09-12\", \"2025-09-12\"]) ,\n",
        "    }\n",
        ")\n",
        "df"
      ]
    },
    {
      "cell_type": "markdown",
      "metadata": {},
      "source": [
        "## Pfadvorschau erzeugen (`build_xml_path`)\n",
        "Der Pfad wird **nicht** angelegt, sondern nur gemäß Schema generiert."
      ]
    },
    {
      "cell_type": "code",
      "execution_count": null,
      "metadata": {},
      "outputs": [],
      "source": [
        "preview_with_ts = build_xml_path(prefix=\"Export\", postfix=\"Orders\", timestamp=True)\n",
        "preview_no_ts  = build_xml_path(prefix=\"Export\", postfix=\"Orders\", timestamp=False)\n",
        "preview_with_ts, preview_no_ts"
      ]
    },
    {
      "cell_type": "markdown",
      "metadata": {},
      "source": [
        "## XML schreiben (`write_xml`)\n",
        "Standardmäßig wird im **aktuellen Arbeitsverzeichnis (cwd)** gespeichert.\n",
        "\n",
        "Parameter-Highlights:\n",
        "- `timestamp=True` fügt `YYYYMMDD_hhmmss` **zwischen** `prefix` und `postfix` ein\n",
        "- `overwrite=False` erzeugt bei Kollision automatisch `_001`, `_002`, ..."
      ]
    },
    {
      "cell_type": "code",
      "execution_count": null,
      "metadata": {},
      "outputs": [],
      "source": [
        "xml_path_1 = write_xml(\n",
        "    df,\n",
        "    prefix=\"Export\",\n",
        "    postfix=\"Orders\",\n",
        "    timestamp=True,\n",
        "    encoding=\"utf-8\",\n",
        "    index=False,\n",
        "    root_name=\"items\",\n",
        "    row_name=\"item\",\n",
        "    xml_declaration=True,\n",
        "    pretty_print=True,\n",
        "    overwrite=False,\n",
        ")\n",
        "xml_path_1"
      ]
    },
    {
      "cell_type": "markdown",
      "metadata": {},
      "source": [
        "## Datei inspizieren (erste Zeilen anzeigen)"
      ]
    },
    {
      "cell_type": "code",
      "execution_count": null,
      "metadata": {},
      "outputs": [],
      "source": [
        "text = Path(xml_path_1).read_text(encoding=\"utf-8\")\n",
        "print(\"\\n\".join(text.splitlines()[:20]))"
      ]
    },
    {
      "cell_type": "markdown",
      "metadata": {},
      "source": [
        "## Ohne Zeitstempel (stabiler Name)\n",
        "Bei `timestamp=False` lautet der Name `prefix[_postfix].xml`. Existiert die Datei bereits und `overwrite=False`, wird automatisch `_001`, `_002`, … angehängt."
      ]
    },
    {
      "cell_type": "code",
      "execution_count": null,
      "metadata": {},
      "outputs": [],
      "source": [
        "xml_path_2 = write_xml(\n",
        "    df,\n",
        "    prefix=\"Export\",\n",
        "    postfix=\"Orders\",\n",
        "    timestamp=False,\n",
        "    overwrite=False,\n",
        ")\n",
        "xml_path_2"
      ]
    },
    {
      "cell_type": "markdown",
      "metadata": {},
      "source": [
        "## Optional: XML wieder als DataFrame einlesen\n",
        "`pandas.read_xml` ist ab pandas 1.3 verfügbar. Je nach Struktur der XML kann `xpath` gesetzt werden.\n"
      ]
    },
    {
      "cell_type": "code",
      "execution_count": null,
      "metadata": {},
      "outputs": [],
      "source": [
        "try:\n",
        "    df_back = pd.read_xml(xml_path_1)\n",
        "    display(df_back.head())\n",
        "except Exception as e:\n",
        "    print(\"Hinweis: Konnte XML nicht direkt lesen:\", e)\n",
        "    print(\"Tipp: Mit 'xpath' und passenden Root-/Row-Namen erneut versuchen, z. B. xpath='.//item'\")"
      ]
    },
    {
      "cell_type": "markdown",
      "metadata": {},
      "source": [
        "## Zusammenfassung\n",
        "- **Schema:** `<prefix>[_<YYYYMMDD>_<hhmmss>][_<postfix>].xml`\n",
        "- **Rückgabe:** vollständiger Pfad der erzeugten Datei\n",
        "- **Robustheit:** automatischer eindeutiger Suffix bei `overwrite=False`\n",
        "- **Tipps:** `encoding='utf-8'`, sprechende `root_name`/`row_name` setzen\n"
      ]
    }
  ],
  "metadata": {
    "kernelspec": {
      "display_name": "Python 3",
      "language": "python",
      "name": "python3"
    },
    "language_info": {
      "name": "python",
      "version": "3.x"
    }
  },
  "nbformat": 4,
  "nbformat_minor": 5
}
